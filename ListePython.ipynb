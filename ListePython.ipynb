{
  "nbformat": 4,
  "nbformat_minor": 0,
  "metadata": {
    "colab": {
      "provenance": [],
      "collapsed_sections": [],
      "authorship_tag": "ABX9TyOAdkqW5V4+7sQwuzaLXuiH",
      "include_colab_link": true
    },
    "kernelspec": {
      "name": "python3",
      "display_name": "Python 3"
    },
    "language_info": {
      "name": "python"
    }
  },
  "cells": [
    {
      "cell_type": "markdown",
      "metadata": {
        "id": "view-in-github",
        "colab_type": "text"
      },
      "source": [
        "<a href=\"https://colab.research.google.com/github/Riccardolotorto/Python/blob/main/ListePython.ipynb\" target=\"_parent\"><img src=\"https://colab.research.google.com/assets/colab-badge.svg\" alt=\"Open In Colab\"/></a>"
      ]
    },
    {
      "cell_type": "markdown",
      "source": [
        "liste"
      ],
      "metadata": {
        "id": "dJhvvQJl446R"
      }
    },
    {
      "cell_type": "code",
      "execution_count": null,
      "metadata": {
        "id": "mRfCtJrN2OPI"
      },
      "outputs": [],
      "source": [
        "a = []"
      ]
    },
    {
      "cell_type": "code",
      "source": [
        "b = [1,2,3,4,5,6,7,8,9,10]\n",
        "print(b)"
      ],
      "metadata": {
        "colab": {
          "base_uri": "https://localhost:8080/"
        },
        "id": "_KTJrctL5EU8",
        "outputId": "46d019ee-1315-4914-e32c-c6a0971f413e"
      },
      "execution_count": null,
      "outputs": [
        {
          "output_type": "stream",
          "name": "stdout",
          "text": [
            "[1, 2, 3, 4, 5, 6, 7, 8, 9, 10]\n"
          ]
        }
      ]
    },
    {
      "cell_type": "code",
      "source": [
        "type(b)"
      ],
      "metadata": {
        "colab": {
          "base_uri": "https://localhost:8080/"
        },
        "id": "avxKn_gh5cfL",
        "outputId": "41a58a0f-edc1-4a29-9f14-70a17f51f35a"
      },
      "execution_count": null,
      "outputs": [
        {
          "output_type": "execute_result",
          "data": {
            "text/plain": [
              "list"
            ]
          },
          "metadata": {},
          "execution_count": 2
        }
      ]
    },
    {
      "cell_type": "code",
      "source": [
        "lista = [12, \"pippo\",37.92,\"pluto\",[\"qui\",[8,12,24],\"qua\"],58]         #lista dentro un'altra lista\n",
        "print(lista[3])\n",
        "print(lista[4])\n",
        "print(lista[4][1])\n",
        "print(lista[4][1][2])"
      ],
      "metadata": {
        "colab": {
          "base_uri": "https://localhost:8080/"
        },
        "id": "NfllHALM59Ci",
        "outputId": "c6f80b0e-2895-4900-ab44-43147c50f6e0"
      },
      "execution_count": null,
      "outputs": [
        {
          "output_type": "stream",
          "name": "stdout",
          "text": [
            "pluto\n",
            "['qui', [8, 12, 24], 'qua']\n",
            "[8, 12, 24]\n",
            "24\n"
          ]
        }
      ]
    },
    {
      "cell_type": "code",
      "source": [
        "lista2 = [1,2,3,4,5,6,7,8,9,10]\n",
        "print(lista2[9])\n",
        "print(lista2[-1])       #trova l'ultimo elemento della lista\n",
        "print(lista2[-2])\n",
        "print(lista2[-10])"
      ],
      "metadata": {
        "colab": {
          "base_uri": "https://localhost:8080/"
        },
        "id": "wfPFw8Fz7joi",
        "outputId": "328e1f13-6dd1-4743-eda9-9cec1a4e8aaa"
      },
      "execution_count": null,
      "outputs": [
        {
          "output_type": "stream",
          "name": "stdout",
          "text": [
            "10\n",
            "10\n",
            "9\n",
            "1\n"
          ]
        }
      ]
    },
    {
      "cell_type": "code",
      "source": [
        "#slicing (spezzare)\n",
        "#lo slicing arriva fino al numero precedente\n",
        "num = [0,1,2,3,4,5,6,7,8,9]\n",
        "#visualizzazione degli elementi dal 3 al 6\n",
        "print(num[3:7])\n",
        "#visualizzazione degli ultimi 5 elementi\n",
        "print(num[5:])\n",
        "#visualizzazione dei primi 5 elementi\n",
        "print(num[:5])\n",
        "print(num[-3:-1])  #visualizzazione del penultimo e terzultimo numero\n",
        "print(num[3:9:2])  #visualizzazione a due a due (l'ultimo :2)\n",
        "print(num[::2])  #visualizzazione a due a due a partire dallo 0"
      ],
      "metadata": {
        "colab": {
          "base_uri": "https://localhost:8080/"
        },
        "id": "lM9rFdDh857y",
        "outputId": "28171dd4-145d-4a39-9072-41a12e110031"
      },
      "execution_count": null,
      "outputs": [
        {
          "output_type": "stream",
          "name": "stdout",
          "text": [
            "[3, 4, 5, 6]\n",
            "[5, 6, 7, 8, 9]\n",
            "[0, 1, 2, 3, 4]\n",
            "[7, 8]\n",
            "[3, 5, 7]\n",
            "[0, 2, 4, 6, 8]\n"
          ]
        }
      ]
    },
    {
      "cell_type": "code",
      "source": [
        "#Built in List Functions  (funzioni per le liste già costruite)\n",
        "\n",
        "#funzione a IN b\n",
        "19 in num"
      ],
      "metadata": {
        "colab": {
          "base_uri": "https://localhost:8080/"
        },
        "id": "3IrEb-joAA5z",
        "outputId": "90d8bce4-2af7-401b-d6d2-4332cdc4e714"
      },
      "execution_count": null,
      "outputs": [
        {
          "output_type": "execute_result",
          "data": {
            "text/plain": [
              "False"
            ]
          },
          "metadata": {},
          "execution_count": 31
        }
      ]
    },
    {
      "cell_type": "code",
      "source": [
        "stringa = \"la mamma è bella\"\n",
        "print(stringa)\n",
        "lista3 = list(stringa)   #funzione list: trasforma la stringa in una lista dividento i caratteri\n",
        "print(lista3)"
      ],
      "metadata": {
        "colab": {
          "base_uri": "https://localhost:8080/"
        },
        "id": "G92DDBXGA3rC",
        "outputId": "705cf00c-9a75-447d-bca3-774a7fffd786"
      },
      "execution_count": null,
      "outputs": [
        {
          "output_type": "stream",
          "name": "stdout",
          "text": [
            "la mamma è bella\n",
            "['l', 'a', ' ', 'm', 'a', 'm', 'm', 'a', ' ', 'è', ' ', 'b', 'e', 'l', 'l', 'a']\n"
          ]
        }
      ]
    },
    {
      "cell_type": "code",
      "source": [
        "#funzione append: aggiunge un elemento alla fine della lista (riconosce un unico elemento)\n",
        "lista4 = [1,2,3]\n",
        "lista4.append(12)\n",
        "print(lista4)\n",
        "lista4.append([10,19])\n",
        "print(lista4)"
      ],
      "metadata": {
        "colab": {
          "base_uri": "https://localhost:8080/"
        },
        "id": "1lqbWK_aBaxS",
        "outputId": "73b1bbdb-0571-46e6-8d30-dcb1ca1c0736"
      },
      "execution_count": null,
      "outputs": [
        {
          "output_type": "stream",
          "name": "stdout",
          "text": [
            "[1, 2, 3, 12]\n",
            "[1, 2, 3, 12, [10, 19]]\n"
          ]
        }
      ]
    },
    {
      "cell_type": "code",
      "source": [
        "#funzione extend: estende la lista con dei valori inseriti (riconosce un elemento per ogni elemento inserito)\n",
        "lista4.extend([10,19])\n",
        "print(lista4)"
      ],
      "metadata": {
        "colab": {
          "base_uri": "https://localhost:8080/"
        },
        "id": "XQt41TapByAS",
        "outputId": "44f42225-5f68-4ff3-a430-cdc4523656ad"
      },
      "execution_count": null,
      "outputs": [
        {
          "output_type": "stream",
          "name": "stdout",
          "text": [
            "[1, 2, 3, 12, [10, 19], 10, 19]\n"
          ]
        }
      ]
    }
  ]
}