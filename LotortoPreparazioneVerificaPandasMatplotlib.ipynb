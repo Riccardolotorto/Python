{
  "nbformat": 4,
  "nbformat_minor": 0,
  "metadata": {
    "colab": {
      "provenance": [],
      "authorship_tag": "ABX9TyNuIvV+10lfAepOlYlB0T/g",
      "include_colab_link": true
    },
    "kernelspec": {
      "name": "python3",
      "display_name": "Python 3"
    },
    "language_info": {
      "name": "python"
    }
  },
  "cells": [
    {
      "cell_type": "markdown",
      "metadata": {
        "id": "view-in-github",
        "colab_type": "text"
      },
      "source": [
        "<a href=\"https://colab.research.google.com/github/Riccardolotorto/Python/blob/main/LotortoPreparazioneVerificaPandasMatplotlib.ipynb\" target=\"_parent\"><img src=\"https://colab.research.google.com/assets/colab-badge.svg\" alt=\"Open In Colab\"/></a>"
      ]
    },
    {
      "cell_type": "code",
      "execution_count": 1,
      "metadata": {
        "id": "SJgdoNCkCLi0"
      },
      "outputs": [],
      "source": [
        "import pandas as pd \n",
        "df = pd.read_csv(\"https://raw.githubusercontent.com/italia/covid19-opendata-vaccini/master/dati/platea.csv\")"
      ]
    },
    {
      "cell_type": "code",
      "source": [
        "df"
      ],
      "metadata": {
        "colab": {
          "base_uri": "https://localhost:8080/",
          "height": 424
        },
        "id": "Sn_Iuvq8Cc1D",
        "outputId": "4eb0176c-d99b-461c-dc3b-ee6beef187c3"
      },
      "execution_count": 20,
      "outputs": [
        {
          "output_type": "execute_result",
          "data": {
            "text/plain": [
              "    area      reg    eta  totale_popolazione\n",
              "0    ABR  Abruzzo  05-11               76431\n",
              "1    ABR  Abruzzo  12-19               94727\n",
              "2    ABR  Abruzzo  20-29              125230\n",
              "3    ABR  Abruzzo  30-39              146965\n",
              "4    ABR  Abruzzo  40-49              187162\n",
              "..   ...      ...    ...                 ...\n",
              "184  VEN   Veneto  40-49              715790\n",
              "185  VEN   Veneto  50-59              806474\n",
              "186  VEN   Veneto  60-69              610635\n",
              "187  VEN   Veneto  70-79              494721\n",
              "188  VEN   Veneto    80+              375784\n",
              "\n",
              "[189 rows x 4 columns]"
            ],
            "text/html": [
              "\n",
              "  <div id=\"df-0a03cca0-57dd-4408-9f0e-2342ef0e4617\">\n",
              "    <div class=\"colab-df-container\">\n",
              "      <div>\n",
              "<style scoped>\n",
              "    .dataframe tbody tr th:only-of-type {\n",
              "        vertical-align: middle;\n",
              "    }\n",
              "\n",
              "    .dataframe tbody tr th {\n",
              "        vertical-align: top;\n",
              "    }\n",
              "\n",
              "    .dataframe thead th {\n",
              "        text-align: right;\n",
              "    }\n",
              "</style>\n",
              "<table border=\"1\" class=\"dataframe\">\n",
              "  <thead>\n",
              "    <tr style=\"text-align: right;\">\n",
              "      <th></th>\n",
              "      <th>area</th>\n",
              "      <th>reg</th>\n",
              "      <th>eta</th>\n",
              "      <th>totale_popolazione</th>\n",
              "    </tr>\n",
              "  </thead>\n",
              "  <tbody>\n",
              "    <tr>\n",
              "      <th>0</th>\n",
              "      <td>ABR</td>\n",
              "      <td>Abruzzo</td>\n",
              "      <td>05-11</td>\n",
              "      <td>76431</td>\n",
              "    </tr>\n",
              "    <tr>\n",
              "      <th>1</th>\n",
              "      <td>ABR</td>\n",
              "      <td>Abruzzo</td>\n",
              "      <td>12-19</td>\n",
              "      <td>94727</td>\n",
              "    </tr>\n",
              "    <tr>\n",
              "      <th>2</th>\n",
              "      <td>ABR</td>\n",
              "      <td>Abruzzo</td>\n",
              "      <td>20-29</td>\n",
              "      <td>125230</td>\n",
              "    </tr>\n",
              "    <tr>\n",
              "      <th>3</th>\n",
              "      <td>ABR</td>\n",
              "      <td>Abruzzo</td>\n",
              "      <td>30-39</td>\n",
              "      <td>146965</td>\n",
              "    </tr>\n",
              "    <tr>\n",
              "      <th>4</th>\n",
              "      <td>ABR</td>\n",
              "      <td>Abruzzo</td>\n",
              "      <td>40-49</td>\n",
              "      <td>187162</td>\n",
              "    </tr>\n",
              "    <tr>\n",
              "      <th>...</th>\n",
              "      <td>...</td>\n",
              "      <td>...</td>\n",
              "      <td>...</td>\n",
              "      <td>...</td>\n",
              "    </tr>\n",
              "    <tr>\n",
              "      <th>184</th>\n",
              "      <td>VEN</td>\n",
              "      <td>Veneto</td>\n",
              "      <td>40-49</td>\n",
              "      <td>715790</td>\n",
              "    </tr>\n",
              "    <tr>\n",
              "      <th>185</th>\n",
              "      <td>VEN</td>\n",
              "      <td>Veneto</td>\n",
              "      <td>50-59</td>\n",
              "      <td>806474</td>\n",
              "    </tr>\n",
              "    <tr>\n",
              "      <th>186</th>\n",
              "      <td>VEN</td>\n",
              "      <td>Veneto</td>\n",
              "      <td>60-69</td>\n",
              "      <td>610635</td>\n",
              "    </tr>\n",
              "    <tr>\n",
              "      <th>187</th>\n",
              "      <td>VEN</td>\n",
              "      <td>Veneto</td>\n",
              "      <td>70-79</td>\n",
              "      <td>494721</td>\n",
              "    </tr>\n",
              "    <tr>\n",
              "      <th>188</th>\n",
              "      <td>VEN</td>\n",
              "      <td>Veneto</td>\n",
              "      <td>80+</td>\n",
              "      <td>375784</td>\n",
              "    </tr>\n",
              "  </tbody>\n",
              "</table>\n",
              "<p>189 rows × 4 columns</p>\n",
              "</div>\n",
              "      <button class=\"colab-df-convert\" onclick=\"convertToInteractive('df-0a03cca0-57dd-4408-9f0e-2342ef0e4617')\"\n",
              "              title=\"Convert this dataframe to an interactive table.\"\n",
              "              style=\"display:none;\">\n",
              "        \n",
              "  <svg xmlns=\"http://www.w3.org/2000/svg\" height=\"24px\"viewBox=\"0 0 24 24\"\n",
              "       width=\"24px\">\n",
              "    <path d=\"M0 0h24v24H0V0z\" fill=\"none\"/>\n",
              "    <path d=\"M18.56 5.44l.94 2.06.94-2.06 2.06-.94-2.06-.94-.94-2.06-.94 2.06-2.06.94zm-11 1L8.5 8.5l.94-2.06 2.06-.94-2.06-.94L8.5 2.5l-.94 2.06-2.06.94zm10 10l.94 2.06.94-2.06 2.06-.94-2.06-.94-.94-2.06-.94 2.06-2.06.94z\"/><path d=\"M17.41 7.96l-1.37-1.37c-.4-.4-.92-.59-1.43-.59-.52 0-1.04.2-1.43.59L10.3 9.45l-7.72 7.72c-.78.78-.78 2.05 0 2.83L4 21.41c.39.39.9.59 1.41.59.51 0 1.02-.2 1.41-.59l7.78-7.78 2.81-2.81c.8-.78.8-2.07 0-2.86zM5.41 20L4 18.59l7.72-7.72 1.47 1.35L5.41 20z\"/>\n",
              "  </svg>\n",
              "      </button>\n",
              "      \n",
              "  <style>\n",
              "    .colab-df-container {\n",
              "      display:flex;\n",
              "      flex-wrap:wrap;\n",
              "      gap: 12px;\n",
              "    }\n",
              "\n",
              "    .colab-df-convert {\n",
              "      background-color: #E8F0FE;\n",
              "      border: none;\n",
              "      border-radius: 50%;\n",
              "      cursor: pointer;\n",
              "      display: none;\n",
              "      fill: #1967D2;\n",
              "      height: 32px;\n",
              "      padding: 0 0 0 0;\n",
              "      width: 32px;\n",
              "    }\n",
              "\n",
              "    .colab-df-convert:hover {\n",
              "      background-color: #E2EBFA;\n",
              "      box-shadow: 0px 1px 2px rgba(60, 64, 67, 0.3), 0px 1px 3px 1px rgba(60, 64, 67, 0.15);\n",
              "      fill: #174EA6;\n",
              "    }\n",
              "\n",
              "    [theme=dark] .colab-df-convert {\n",
              "      background-color: #3B4455;\n",
              "      fill: #D2E3FC;\n",
              "    }\n",
              "\n",
              "    [theme=dark] .colab-df-convert:hover {\n",
              "      background-color: #434B5C;\n",
              "      box-shadow: 0px 1px 3px 1px rgba(0, 0, 0, 0.15);\n",
              "      filter: drop-shadow(0px 1px 2px rgba(0, 0, 0, 0.3));\n",
              "      fill: #FFFFFF;\n",
              "    }\n",
              "  </style>\n",
              "\n",
              "      <script>\n",
              "        const buttonEl =\n",
              "          document.querySelector('#df-0a03cca0-57dd-4408-9f0e-2342ef0e4617 button.colab-df-convert');\n",
              "        buttonEl.style.display =\n",
              "          google.colab.kernel.accessAllowed ? 'block' : 'none';\n",
              "\n",
              "        async function convertToInteractive(key) {\n",
              "          const element = document.querySelector('#df-0a03cca0-57dd-4408-9f0e-2342ef0e4617');\n",
              "          const dataTable =\n",
              "            await google.colab.kernel.invokeFunction('convertToInteractive',\n",
              "                                                     [key], {});\n",
              "          if (!dataTable) return;\n",
              "\n",
              "          const docLinkHtml = 'Like what you see? Visit the ' +\n",
              "            '<a target=\"_blank\" href=https://colab.research.google.com/notebooks/data_table.ipynb>data table notebook</a>'\n",
              "            + ' to learn more about interactive tables.';\n",
              "          element.innerHTML = '';\n",
              "          dataTable['output_type'] = 'display_data';\n",
              "          await google.colab.output.renderOutput(dataTable, element);\n",
              "          const docLink = document.createElement('div');\n",
              "          docLink.innerHTML = docLinkHtml;\n",
              "          element.appendChild(docLink);\n",
              "        }\n",
              "      </script>\n",
              "    </div>\n",
              "  </div>\n",
              "  "
            ]
          },
          "metadata": {},
          "execution_count": 20
        }
      ]
    },
    {
      "cell_type": "markdown",
      "source": [
        "1. il numero di record presente nel file"
      ],
      "metadata": {
        "id": "rl-DPkaiCguM"
      }
    },
    {
      "cell_type": "code",
      "source": [
        "len(df)"
      ],
      "metadata": {
        "id": "PB4mnx09Cijb"
      },
      "execution_count": null,
      "outputs": []
    },
    {
      "cell_type": "markdown",
      "source": [
        "2.  il numero di regioni presente nel file"
      ],
      "metadata": {
        "id": "voWDJhLYCp7k"
      }
    },
    {
      "cell_type": "code",
      "source": [
        "len(set(df[\"reg\"]))"
      ],
      "metadata": {
        "id": "NDnejg47CsLb"
      },
      "execution_count": null,
      "outputs": []
    },
    {
      "cell_type": "markdown",
      "source": [
        "3. il numero di abitanti di ogni regione. Ordinare in ordine decrescente sul numero di abitanti"
      ],
      "metadata": {
        "id": "4hMAtz3gDq1r"
      }
    },
    {
      "cell_type": "code",
      "source": [
        "df.groupby(\"reg\")[[\"totale_popolazione\"]].sum().sort_values(by=\"totale_popolazione\", ascending = False)"
      ],
      "metadata": {
        "id": "vZjYwR1ODs-U"
      },
      "execution_count": null,
      "outputs": []
    },
    {
      "cell_type": "markdown",
      "source": [
        "4.  la regione con il numero di abitanti più alto"
      ],
      "metadata": {
        "id": "IDFpvXLeEK7a"
      }
    },
    {
      "cell_type": "code",
      "source": [
        "dfreg = df.groupby(\"reg\")[[\"totale_popolazione\"]].sum().sort_values(by=\"totale_popolazione\", ascending = False).reset_index()\n",
        "dfreg"
      ],
      "metadata": {
        "id": "kyNKz4FFIuKE"
      },
      "execution_count": null,
      "outputs": []
    },
    {
      "cell_type": "code",
      "source": [
        "dfreg[dfreg[\"totale_popolazione\"] == dfreg[\"totale_popolazione\"].max()][[\"reg\"]]"
      ],
      "metadata": {
        "colab": {
          "base_uri": "https://localhost:8080/",
          "height": 81
        },
        "id": "84ohRut4I8yU",
        "outputId": "e95f32dc-1e37-45f9-88bd-7e61d58d8e35"
      },
      "execution_count": 16,
      "outputs": [
        {
          "output_type": "execute_result",
          "data": {
            "text/plain": [
              "         reg\n",
              "0  Lombardia"
            ],
            "text/html": [
              "\n",
              "  <div id=\"df-20e5f0cc-3869-4a7a-83d2-a2305d9667d7\">\n",
              "    <div class=\"colab-df-container\">\n",
              "      <div>\n",
              "<style scoped>\n",
              "    .dataframe tbody tr th:only-of-type {\n",
              "        vertical-align: middle;\n",
              "    }\n",
              "\n",
              "    .dataframe tbody tr th {\n",
              "        vertical-align: top;\n",
              "    }\n",
              "\n",
              "    .dataframe thead th {\n",
              "        text-align: right;\n",
              "    }\n",
              "</style>\n",
              "<table border=\"1\" class=\"dataframe\">\n",
              "  <thead>\n",
              "    <tr style=\"text-align: right;\">\n",
              "      <th></th>\n",
              "      <th>reg</th>\n",
              "    </tr>\n",
              "  </thead>\n",
              "  <tbody>\n",
              "    <tr>\n",
              "      <th>0</th>\n",
              "      <td>Lombardia</td>\n",
              "    </tr>\n",
              "  </tbody>\n",
              "</table>\n",
              "</div>\n",
              "      <button class=\"colab-df-convert\" onclick=\"convertToInteractive('df-20e5f0cc-3869-4a7a-83d2-a2305d9667d7')\"\n",
              "              title=\"Convert this dataframe to an interactive table.\"\n",
              "              style=\"display:none;\">\n",
              "        \n",
              "  <svg xmlns=\"http://www.w3.org/2000/svg\" height=\"24px\"viewBox=\"0 0 24 24\"\n",
              "       width=\"24px\">\n",
              "    <path d=\"M0 0h24v24H0V0z\" fill=\"none\"/>\n",
              "    <path d=\"M18.56 5.44l.94 2.06.94-2.06 2.06-.94-2.06-.94-.94-2.06-.94 2.06-2.06.94zm-11 1L8.5 8.5l.94-2.06 2.06-.94-2.06-.94L8.5 2.5l-.94 2.06-2.06.94zm10 10l.94 2.06.94-2.06 2.06-.94-2.06-.94-.94-2.06-.94 2.06-2.06.94z\"/><path d=\"M17.41 7.96l-1.37-1.37c-.4-.4-.92-.59-1.43-.59-.52 0-1.04.2-1.43.59L10.3 9.45l-7.72 7.72c-.78.78-.78 2.05 0 2.83L4 21.41c.39.39.9.59 1.41.59.51 0 1.02-.2 1.41-.59l7.78-7.78 2.81-2.81c.8-.78.8-2.07 0-2.86zM5.41 20L4 18.59l7.72-7.72 1.47 1.35L5.41 20z\"/>\n",
              "  </svg>\n",
              "      </button>\n",
              "      \n",
              "  <style>\n",
              "    .colab-df-container {\n",
              "      display:flex;\n",
              "      flex-wrap:wrap;\n",
              "      gap: 12px;\n",
              "    }\n",
              "\n",
              "    .colab-df-convert {\n",
              "      background-color: #E8F0FE;\n",
              "      border: none;\n",
              "      border-radius: 50%;\n",
              "      cursor: pointer;\n",
              "      display: none;\n",
              "      fill: #1967D2;\n",
              "      height: 32px;\n",
              "      padding: 0 0 0 0;\n",
              "      width: 32px;\n",
              "    }\n",
              "\n",
              "    .colab-df-convert:hover {\n",
              "      background-color: #E2EBFA;\n",
              "      box-shadow: 0px 1px 2px rgba(60, 64, 67, 0.3), 0px 1px 3px 1px rgba(60, 64, 67, 0.15);\n",
              "      fill: #174EA6;\n",
              "    }\n",
              "\n",
              "    [theme=dark] .colab-df-convert {\n",
              "      background-color: #3B4455;\n",
              "      fill: #D2E3FC;\n",
              "    }\n",
              "\n",
              "    [theme=dark] .colab-df-convert:hover {\n",
              "      background-color: #434B5C;\n",
              "      box-shadow: 0px 1px 3px 1px rgba(0, 0, 0, 0.15);\n",
              "      filter: drop-shadow(0px 1px 2px rgba(0, 0, 0, 0.3));\n",
              "      fill: #FFFFFF;\n",
              "    }\n",
              "  </style>\n",
              "\n",
              "      <script>\n",
              "        const buttonEl =\n",
              "          document.querySelector('#df-20e5f0cc-3869-4a7a-83d2-a2305d9667d7 button.colab-df-convert');\n",
              "        buttonEl.style.display =\n",
              "          google.colab.kernel.accessAllowed ? 'block' : 'none';\n",
              "\n",
              "        async function convertToInteractive(key) {\n",
              "          const element = document.querySelector('#df-20e5f0cc-3869-4a7a-83d2-a2305d9667d7');\n",
              "          const dataTable =\n",
              "            await google.colab.kernel.invokeFunction('convertToInteractive',\n",
              "                                                     [key], {});\n",
              "          if (!dataTable) return;\n",
              "\n",
              "          const docLinkHtml = 'Like what you see? Visit the ' +\n",
              "            '<a target=\"_blank\" href=https://colab.research.google.com/notebooks/data_table.ipynb>data table notebook</a>'\n",
              "            + ' to learn more about interactive tables.';\n",
              "          element.innerHTML = '';\n",
              "          dataTable['output_type'] = 'display_data';\n",
              "          await google.colab.output.renderOutput(dataTable, element);\n",
              "          const docLink = document.createElement('div');\n",
              "          docLink.innerHTML = docLinkHtml;\n",
              "          element.appendChild(docLink);\n",
              "        }\n",
              "      </script>\n",
              "    </div>\n",
              "  </div>\n",
              "  "
            ]
          },
          "metadata": {},
          "execution_count": 16
        }
      ]
    },
    {
      "cell_type": "markdown",
      "source": [
        "5.  il numero medio di abitanti delle regioni"
      ],
      "metadata": {
        "id": "_HEbdcOCEXC7"
      }
    },
    {
      "cell_type": "code",
      "source": [
        "df2 = df.groupby(\"reg\")[[\"totale_popolazione\"]].sum().reset_index()\n",
        "df2[\"totale_popolazione\"].mean()"
      ],
      "metadata": {
        "colab": {
          "base_uri": "https://localhost:8080/"
        },
        "id": "oq5hWJ_IEYs2",
        "outputId": "6086b77c-cd12-4686-f6d3-eb32aaa76670"
      },
      "execution_count": 8,
      "outputs": [
        {
          "output_type": "execute_result",
          "data": {
            "text/plain": [
              "2745240.6666666665"
            ]
          },
          "metadata": {},
          "execution_count": 8
        }
      ]
    },
    {
      "cell_type": "markdown",
      "source": [
        "6.  le regioni che hanno più abitanti della media degli abitanti delle regioni"
      ],
      "metadata": {
        "id": "IMlPWf8CFRn0"
      }
    },
    {
      "cell_type": "code",
      "source": [
        "df2[df2[\"totale_popolazione\"] > df2[\"totale_popolazione\"].mean()][[\"reg\"]]"
      ],
      "metadata": {
        "id": "tCaTWSgNFca4"
      },
      "execution_count": null,
      "outputs": []
    },
    {
      "cell_type": "markdown",
      "source": [
        "7.  la regione che ha più abitanti nella fascia 12-19"
      ],
      "metadata": {
        "id": "Ga_MIVksHKX7"
      }
    },
    {
      "cell_type": "code",
      "source": [
        "eta = df[df[\"eta\"] == \"12-19\"].groupby(\"reg\")[[\"totale_popolazione\"]].sum().sort_values(by=\"totale_popolazione\", ascending = False).reset_index()\n",
        "eta"
      ],
      "metadata": {
        "id": "KB0Qx6BxGAQf"
      },
      "execution_count": null,
      "outputs": []
    },
    {
      "cell_type": "code",
      "source": [
        "eta[eta[\"totale_popolazione\"] == eta[\"totale_popolazione\"].max()][[\"reg\"]]"
      ],
      "metadata": {
        "id": "yPCsVHwWKl9q"
      },
      "execution_count": null,
      "outputs": []
    },
    {
      "cell_type": "markdown",
      "source": [
        "8.  il numero di abitanti per ogni fascia d'età"
      ],
      "metadata": {
        "id": "LtHdx6kALep2"
      }
    },
    {
      "cell_type": "code",
      "source": [
        "df.groupby(\"eta\")[[\"totale_popolazione\"]].sum()"
      ],
      "metadata": {
        "id": "uZ4vV3UDLgdz"
      },
      "execution_count": null,
      "outputs": []
    },
    {
      "cell_type": "markdown",
      "source": [
        "9.  la fascia d'età con più abitanti"
      ],
      "metadata": {
        "id": "TO1v-OThMzE0"
      }
    },
    {
      "cell_type": "code",
      "source": [
        "eta_abitanti = df.groupby(\"eta\")[[\"totale_popolazione\"]].sum().sort_values(by=\"totale_popolazione\", ascending = False).reset_index()\n",
        "eta_abitanti[eta_abitanti[\"totale_popolazione\"] == eta_abitanti[\"totale_popolazione\"].max()][[\"eta\"]]"
      ],
      "metadata": {
        "id": "hz_6zG0ALq2k"
      },
      "execution_count": null,
      "outputs": []
    },
    {
      "cell_type": "markdown",
      "source": [
        "10.   un grafico a barre orizzontali per l'esercizio 3"
      ],
      "metadata": {
        "id": "QxB4eSmBOk7b"
      }
    },
    {
      "cell_type": "code",
      "source": [
        "import matplotlib.pyplot as plt"
      ],
      "metadata": {
        "id": "CrSk6j_wOrht"
      },
      "execution_count": null,
      "outputs": []
    },
    {
      "cell_type": "code",
      "source": [
        "dati = df.groupby(\"reg\")[[\"totale_popolazione\"]].sum().sort_values(by=\"totale_popolazione\", ascending = False).reset_index()\n",
        "regioni = dati[\"reg\"]\n",
        "popolazioni = dati[\"totale_popolazione\"]\n",
        "fig, ax = plt.subplots(figsize=(15,8))\n",
        "ax.barh(regioni, popolazioni, label='numero di abitati per ogni regione', color = [\"red\", \"blue\", \"green\", \"yellow\", \"black\"])\n",
        "ax.set_ylabel(\"numero di abitanti (in milioni)\")\n",
        "ax.set_xlabel(\"regione\")\n",
        "ax.set_title('numero di abitati per ogni regione')"
      ],
      "metadata": {
        "id": "51XU1LPFOx10"
      },
      "execution_count": null,
      "outputs": []
    },
    {
      "cell_type": "markdown",
      "source": [
        "11.  un grafico a barre verticali per l'esercizio 8"
      ],
      "metadata": {
        "id": "y66J2HcTPe20"
      }
    },
    {
      "cell_type": "code",
      "source": [
        "dati2 = df.groupby(\"eta\")[[\"totale_popolazione\"]].sum().reset_index()\n",
        "fasce_eta = dati2[\"eta\"]\n",
        "popolazioni2 = dati2[\"totale_popolazione\"]\n",
        "fig, ax = plt.subplots(figsize=(15,8))\n",
        "ax.bar(fasce_eta, popolazioni2, label=\"numero di abitati per ogni fascia d'età\", color = [\"red\", \"blue\", \"green\", \"yellow\", \"black\"])\n",
        "ax.set_xlabel(\"fasce d'età\")\n",
        "ax.set_ylabel(\"numero di abitanti (in milioni)\")\n",
        "ax.set_title(\"numero di abitati per ogni fascia d'età\")"
      ],
      "metadata": {
        "id": "FZI1UGzCPhf7"
      },
      "execution_count": null,
      "outputs": []
    },
    {
      "cell_type": "markdown",
      "source": [
        "12. un grafico a torta per l'esercizio 3 che riporti le percentuali"
      ],
      "metadata": {
        "id": "q1J-0D05RouU"
      }
    },
    {
      "cell_type": "code",
      "source": [
        "dati3 = df.groupby(\"reg\")[[\"totale_popolazione\"]].sum().sort_values(by=\"totale_popolazione\", ascending = False).reset_index()\n",
        "regioni2 = dati[\"reg\"]\n",
        "popolazioni3 = dati[\"totale_popolazione\"]\n",
        "plt.figure(figsize=(16, 12))\n",
        "plt.pie(popolazioni3, labels=regioni2, autopct = '%1.0f%%') \n",
        "plt.show()"
      ],
      "metadata": {
        "id": "0w5fuTMYRsu1"
      },
      "execution_count": null,
      "outputs": []
    }
  ]
}