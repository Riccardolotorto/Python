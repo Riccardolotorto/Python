{
  "nbformat": 4,
  "nbformat_minor": 0,
  "metadata": {
    "colab": {
      "provenance": [],
      "collapsed_sections": [
        "9tFx2kRjstSy",
        "9S39qL-tsxjG"
      ],
      "authorship_tag": "ABX9TyMP/p8JcpAJSN9PlDDtN/cW",
      "include_colab_link": true
    },
    "kernelspec": {
      "name": "python3",
      "display_name": "Python 3"
    },
    "language_info": {
      "name": "python"
    }
  },
  "cells": [
    {
      "cell_type": "markdown",
      "metadata": {
        "id": "view-in-github",
        "colab_type": "text"
      },
      "source": [
        "<a href=\"https://colab.research.google.com/github/Riccardolotorto/Python/blob/main/PandasPlot.ipynb\" target=\"_parent\"><img src=\"https://colab.research.google.com/assets/colab-badge.svg\" alt=\"Open In Colab\"/></a>"
      ]
    },
    {
      "cell_type": "markdown",
      "source": [
        "#esempio 1"
      ],
      "metadata": {
        "id": "9tFx2kRjstSy"
      }
    },
    {
      "cell_type": "markdown",
      "source": [
        "**creare un plot**"
      ],
      "metadata": {
        "id": "qi_q6EGfSfB0"
      }
    },
    {
      "cell_type": "code",
      "source": [
        "#in questo esempio ho usato un file csv contenenti troppi dati, quindi non è chiaro il riconoscimento dei dati nella tabella"
      ],
      "metadata": {
        "id": "Bhs6XPijshr5"
      },
      "execution_count": 1,
      "outputs": []
    },
    {
      "cell_type": "code",
      "execution_count": 2,
      "metadata": {
        "id": "DIS4lX4NSc4K"
      },
      "outputs": [],
      "source": [
        "import pandas as pd"
      ]
    },
    {
      "cell_type": "code",
      "source": [
        "import matplotlib.pyplot as plt"
      ],
      "metadata": {
        "id": "3AP5odI7S3x7"
      },
      "execution_count": 3,
      "outputs": []
    },
    {
      "cell_type": "code",
      "source": [
        "df = pd.read_csv(\"https://raw.githubusercontent.com/wtitze/3E/main/2010.csv\", delimiter=\";\")\n",
        "df.head(1)"
      ],
      "metadata": {
        "colab": {
          "base_uri": "https://localhost:8080/",
          "height": 206
        },
        "id": "HN1kqFrpTOfS",
        "outputId": "30a7a7be-ad73-43b6-e6e6-aa4139b0bb11"
      },
      "execution_count": 4,
      "outputs": [
        {
          "output_type": "execute_result",
          "data": {
            "text/plain": [
              "        Title    Year                              Genres Language Country  \\\n",
              "0  127 Hours   2010.0  Adventure|Biography|Drama|Thriller  English     USA   \n",
              "\n",
              "  Content Rating  Duration Aspect Ratio      Budget  Gross Earnings  ...  \\\n",
              "0              R      94.0         1,85  18000000.0      18329466.0  ...   \n",
              "\n",
              "  Facebook Likes - Actor 2 Facebook Likes - Actor 3  \\\n",
              "0                    642.0                    223.0   \n",
              "\n",
              "  Facebook Likes - cast Total Facebook likes - Movie  Facenumber in posters  \\\n",
              "0                       11984                  63000                    0.0   \n",
              "\n",
              "   User Votes  Reviews by Users  Reviews by Crtiics  IMDB Score  Unnamed: 25  \n",
              "0      279179             440.0               450.0         7,6          NaN  \n",
              "\n",
              "[1 rows x 26 columns]"
            ],
            "text/html": [
              "\n",
              "  <div id=\"df-44e45422-7658-4f15-b105-e5af5621d24d\">\n",
              "    <div class=\"colab-df-container\">\n",
              "      <div>\n",
              "<style scoped>\n",
              "    .dataframe tbody tr th:only-of-type {\n",
              "        vertical-align: middle;\n",
              "    }\n",
              "\n",
              "    .dataframe tbody tr th {\n",
              "        vertical-align: top;\n",
              "    }\n",
              "\n",
              "    .dataframe thead th {\n",
              "        text-align: right;\n",
              "    }\n",
              "</style>\n",
              "<table border=\"1\" class=\"dataframe\">\n",
              "  <thead>\n",
              "    <tr style=\"text-align: right;\">\n",
              "      <th></th>\n",
              "      <th>Title</th>\n",
              "      <th>Year</th>\n",
              "      <th>Genres</th>\n",
              "      <th>Language</th>\n",
              "      <th>Country</th>\n",
              "      <th>Content Rating</th>\n",
              "      <th>Duration</th>\n",
              "      <th>Aspect Ratio</th>\n",
              "      <th>Budget</th>\n",
              "      <th>Gross Earnings</th>\n",
              "      <th>...</th>\n",
              "      <th>Facebook Likes - Actor 2</th>\n",
              "      <th>Facebook Likes - Actor 3</th>\n",
              "      <th>Facebook Likes - cast Total</th>\n",
              "      <th>Facebook likes - Movie</th>\n",
              "      <th>Facenumber in posters</th>\n",
              "      <th>User Votes</th>\n",
              "      <th>Reviews by Users</th>\n",
              "      <th>Reviews by Crtiics</th>\n",
              "      <th>IMDB Score</th>\n",
              "      <th>Unnamed: 25</th>\n",
              "    </tr>\n",
              "  </thead>\n",
              "  <tbody>\n",
              "    <tr>\n",
              "      <th>0</th>\n",
              "      <td>127 Hours</td>\n",
              "      <td>2010.0</td>\n",
              "      <td>Adventure|Biography|Drama|Thriller</td>\n",
              "      <td>English</td>\n",
              "      <td>USA</td>\n",
              "      <td>R</td>\n",
              "      <td>94.0</td>\n",
              "      <td>1,85</td>\n",
              "      <td>18000000.0</td>\n",
              "      <td>18329466.0</td>\n",
              "      <td>...</td>\n",
              "      <td>642.0</td>\n",
              "      <td>223.0</td>\n",
              "      <td>11984</td>\n",
              "      <td>63000</td>\n",
              "      <td>0.0</td>\n",
              "      <td>279179</td>\n",
              "      <td>440.0</td>\n",
              "      <td>450.0</td>\n",
              "      <td>7,6</td>\n",
              "      <td>NaN</td>\n",
              "    </tr>\n",
              "  </tbody>\n",
              "</table>\n",
              "<p>1 rows × 26 columns</p>\n",
              "</div>\n",
              "      <button class=\"colab-df-convert\" onclick=\"convertToInteractive('df-44e45422-7658-4f15-b105-e5af5621d24d')\"\n",
              "              title=\"Convert this dataframe to an interactive table.\"\n",
              "              style=\"display:none;\">\n",
              "        \n",
              "  <svg xmlns=\"http://www.w3.org/2000/svg\" height=\"24px\"viewBox=\"0 0 24 24\"\n",
              "       width=\"24px\">\n",
              "    <path d=\"M0 0h24v24H0V0z\" fill=\"none\"/>\n",
              "    <path d=\"M18.56 5.44l.94 2.06.94-2.06 2.06-.94-2.06-.94-.94-2.06-.94 2.06-2.06.94zm-11 1L8.5 8.5l.94-2.06 2.06-.94-2.06-.94L8.5 2.5l-.94 2.06-2.06.94zm10 10l.94 2.06.94-2.06 2.06-.94-2.06-.94-.94-2.06-.94 2.06-2.06.94z\"/><path d=\"M17.41 7.96l-1.37-1.37c-.4-.4-.92-.59-1.43-.59-.52 0-1.04.2-1.43.59L10.3 9.45l-7.72 7.72c-.78.78-.78 2.05 0 2.83L4 21.41c.39.39.9.59 1.41.59.51 0 1.02-.2 1.41-.59l7.78-7.78 2.81-2.81c.8-.78.8-2.07 0-2.86zM5.41 20L4 18.59l7.72-7.72 1.47 1.35L5.41 20z\"/>\n",
              "  </svg>\n",
              "      </button>\n",
              "      \n",
              "  <style>\n",
              "    .colab-df-container {\n",
              "      display:flex;\n",
              "      flex-wrap:wrap;\n",
              "      gap: 12px;\n",
              "    }\n",
              "\n",
              "    .colab-df-convert {\n",
              "      background-color: #E8F0FE;\n",
              "      border: none;\n",
              "      border-radius: 50%;\n",
              "      cursor: pointer;\n",
              "      display: none;\n",
              "      fill: #1967D2;\n",
              "      height: 32px;\n",
              "      padding: 0 0 0 0;\n",
              "      width: 32px;\n",
              "    }\n",
              "\n",
              "    .colab-df-convert:hover {\n",
              "      background-color: #E2EBFA;\n",
              "      box-shadow: 0px 1px 2px rgba(60, 64, 67, 0.3), 0px 1px 3px 1px rgba(60, 64, 67, 0.15);\n",
              "      fill: #174EA6;\n",
              "    }\n",
              "\n",
              "    [theme=dark] .colab-df-convert {\n",
              "      background-color: #3B4455;\n",
              "      fill: #D2E3FC;\n",
              "    }\n",
              "\n",
              "    [theme=dark] .colab-df-convert:hover {\n",
              "      background-color: #434B5C;\n",
              "      box-shadow: 0px 1px 3px 1px rgba(0, 0, 0, 0.15);\n",
              "      filter: drop-shadow(0px 1px 2px rgba(0, 0, 0, 0.3));\n",
              "      fill: #FFFFFF;\n",
              "    }\n",
              "  </style>\n",
              "\n",
              "      <script>\n",
              "        const buttonEl =\n",
              "          document.querySelector('#df-44e45422-7658-4f15-b105-e5af5621d24d button.colab-df-convert');\n",
              "        buttonEl.style.display =\n",
              "          google.colab.kernel.accessAllowed ? 'block' : 'none';\n",
              "\n",
              "        async function convertToInteractive(key) {\n",
              "          const element = document.querySelector('#df-44e45422-7658-4f15-b105-e5af5621d24d');\n",
              "          const dataTable =\n",
              "            await google.colab.kernel.invokeFunction('convertToInteractive',\n",
              "                                                     [key], {});\n",
              "          if (!dataTable) return;\n",
              "\n",
              "          const docLinkHtml = 'Like what you see? Visit the ' +\n",
              "            '<a target=\"_blank\" href=https://colab.research.google.com/notebooks/data_table.ipynb>data table notebook</a>'\n",
              "            + ' to learn more about interactive tables.';\n",
              "          element.innerHTML = '';\n",
              "          dataTable['output_type'] = 'display_data';\n",
              "          await google.colab.output.renderOutput(dataTable, element);\n",
              "          const docLink = document.createElement('div');\n",
              "          docLink.innerHTML = docLinkHtml;\n",
              "          element.appendChild(docLink);\n",
              "        }\n",
              "      </script>\n",
              "    </div>\n",
              "  </div>\n",
              "  "
            ]
          },
          "metadata": {},
          "execution_count": 4
        }
      ]
    },
    {
      "cell_type": "code",
      "source": [
        "#trasformare il dataframe in una tabella(plot)\n",
        "df.plot()"
      ],
      "metadata": {
        "colab": {
          "base_uri": "https://localhost:8080/",
          "height": 293
        },
        "id": "hprnI03OS-F6",
        "outputId": "fc88a789-ec15-408f-9d96-4caea9b72098"
      },
      "execution_count": 5,
      "outputs": [
        {
          "output_type": "execute_result",
          "data": {
            "text/plain": [
              "<matplotlib.axes._subplots.AxesSubplot at 0x7f1039effe10>"
            ]
          },
          "metadata": {},
          "execution_count": 5
        },
        {
          "output_type": "display_data",
          "data": {
            "text/plain": [
              "<Figure size 432x288 with 1 Axes>"
            ],
            "image/png": "[encoded data removed]"
          },
          "metadata": {
            "needs_background": "light"
          }
        }
      ]
    },
    {
      "cell_type": "code",
      "source": [
        "#creare un plot con dati specifici\n",
        "df.plot(x = \"Year\", y = \"User Votes\")"
      ],
      "metadata": {
        "colab": {
          "base_uri": "https://localhost:8080/",
          "height": 307
        },
        "id": "fHBZ9yLJT71q",
        "outputId": "f5ac2f1e-19f3-4b82-915e-d187b32ea76b"
      },
      "execution_count": 6,
      "outputs": [
        {
          "output_type": "execute_result",
          "data": {
            "text/plain": [
              "<matplotlib.axes._subplots.AxesSubplot at 0x7f1039e1d550>"
            ]
          },
          "metadata": {},
          "execution_count": 6
        },
        {
          "output_type": "display_data",
          "data": {
            "text/plain": [
              "<Figure size 432x288 with 1 Axes>"
            ],
            "image/png": "[encoded data removed]"
          },
          "metadata": {
            "needs_background": "light"
          }
        }
      ]
    },
    {
      "cell_type": "markdown",
      "source": [
        "#esempio 2"
      ],
      "metadata": {
        "id": "9S39qL-tsxjG"
      }
    },
    {
      "cell_type": "code",
      "source": [
        "#in questo esempio uso un file con pochi dati per riconoscerli meglio nella tabella"
      ],
      "metadata": {
        "id": "rep3Q6Nbsy0m"
      },
      "execution_count": null,
      "outputs": []
    },
    {
      "cell_type": "code",
      "source": [
        "import pandas as pd\n",
        "import matplotlib.pyplot as plt"
      ],
      "metadata": {
        "id": "KHoZboE5s7vd"
      },
      "execution_count": null,
      "outputs": []
    }
  ]
}