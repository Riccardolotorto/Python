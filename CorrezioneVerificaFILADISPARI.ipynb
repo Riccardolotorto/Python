{
  "nbformat": 4,
  "nbformat_minor": 0,
  "metadata": {
    "colab": {
      "provenance": [],
      "collapsed_sections": [],
      "authorship_tag": "ABX9TyMX26C9+5SuoabjeJD49R8g",
      "include_colab_link": true
    },
    "kernelspec": {
      "name": "python3",
      "display_name": "Python 3"
    },
    "language_info": {
      "name": "python"
    }
  },
  "cells": [
    {
      "cell_type": "markdown",
      "metadata": {
        "id": "view-in-github",
        "colab_type": "text"
      },
      "source": [
        "<a href=\"https://colab.research.google.com/github/Riccardolotorto/Python/blob/main/CorrezioneVerificaFILADISPARI.ipynb\" target=\"_parent\"><img src=\"https://colab.research.google.com/assets/colab-badge.svg\" alt=\"Open In Colab\"/></a>"
      ]
    },
    {
      "cell_type": "markdown",
      "source": [
        "fila 1 esercizio 2"
      ],
      "metadata": {
        "id": "4MLRunvNu4Gy"
      }
    },
    {
      "cell_type": "markdown",
      "source": [
        "1. caricare una lista con i primi 50 multipli di 5"
      ],
      "metadata": {
        "id": "UrYM745DvF3b"
      }
    },
    {
      "cell_type": "code",
      "execution_count": null,
      "metadata": {
        "colab": {
          "base_uri": "https://localhost:8080/"
        },
        "id": "Tc93hDu6urwM",
        "outputId": "e4378a92-4622-47ac-fa29-ab2a33d49c33"
      },
      "outputs": [
        {
          "output_type": "stream",
          "name": "stdout",
          "text": [
            "[5, 10, 15, 20, 25, 30, 35, 40, 45, 50, 55, 60, 65, 70, 75, 80, 85, 90, 95, 100, 105, 110, 115, 120, 125, 130, 135, 140, 145, 150, 155, 160, 165, 170, 175, 180, 185, 190, 195, 200, 205, 210, 215, 220, 225, 230, 235, 240, 245, 250]\n"
          ]
        }
      ],
      "source": [
        "multipli = [i for i in range(5, 255, 5)]\n",
        "print(multipli)"
      ]
    },
    {
      "cell_type": "code",
      "source": [
        "multipli = [i * 5 for i in range(1, 51)]\n",
        "print(multipli)"
      ],
      "metadata": {
        "colab": {
          "base_uri": "https://localhost:8080/"
        },
        "id": "0UeT_7zTwcSS",
        "outputId": "fdb8e898-3d60-4253-9841-10e72e805b40"
      },
      "execution_count": null,
      "outputs": [
        {
          "output_type": "stream",
          "name": "stdout",
          "text": [
            "[5, 10, 15, 20, 25, 30, 35, 40, 45, 50, 55, 60, 65, 70, 75, 80, 85, 90, 95, 100, 105, 110, 115, 120, 125, 130, 135, 140, 145, 150, 155, 160, 165, 170, 175, 180, 185, 190, 195, 200, 205, 210, 215, 220, 225, 230, 235, 240, 245, 250]\n"
          ]
        }
      ]
    },
    {
      "cell_type": "code",
      "source": [
        "multipli = [i for i in range(5, 255) if i % 5 == 0]\n",
        "print(multipli)"
      ],
      "metadata": {
        "colab": {
          "base_uri": "https://localhost:8080/"
        },
        "id": "sY6Yc0wlxIpx",
        "outputId": "b0925bb6-fe5e-433f-a495-6c174444b48c"
      },
      "execution_count": null,
      "outputs": [
        {
          "output_type": "stream",
          "name": "stdout",
          "text": [
            "[5, 10, 15, 20, 25, 30, 35, 40, 45, 50, 55, 60, 65, 70, 75, 80, 85, 90, 95, 100, 105, 110, 115, 120, 125, 130, 135, 140, 145, 150, 155, 160, 165, 170, 175, 180, 185, 190, 195, 200, 205, 210, 215, 220, 225, 230, 235, 240, 245, 250]\n"
          ]
        }
      ]
    },
    {
      "cell_type": "code",
      "source": [
        "len(multipli)"
      ],
      "metadata": {
        "colab": {
          "base_uri": "https://localhost:8080/"
        },
        "id": "L-yjWxVuxv8D",
        "outputId": "cc3ff0a1-5a1f-44c4-adb8-fafe9be42ba1"
      },
      "execution_count": null,
      "outputs": [
        {
          "output_type": "execute_result",
          "data": {
            "text/plain": [
              "50"
            ]
          },
          "metadata": {},
          "execution_count": 7
        }
      ]
    },
    {
      "cell_type": "markdown",
      "source": [
        "2. caricare in una nuova lista solo i multipli di 10"
      ],
      "metadata": {
        "id": "ELE5JqlTx27x"
      }
    },
    {
      "cell_type": "code",
      "source": [
        "multipli10 = [mul for mul in multipli if mul % 10 == 0]\n",
        "print(multipli10)"
      ],
      "metadata": {
        "id": "jm8q2d5Fx9hx",
        "colab": {
          "base_uri": "https://localhost:8080/"
        },
        "outputId": "bcda1f38-69a8-4207-ac97-ce1b346bf73f"
      },
      "execution_count": null,
      "outputs": [
        {
          "output_type": "stream",
          "name": "stdout",
          "text": [
            "[10, 20, 30, 40, 50, 60, 70, 80, 90, 100, 110, 120, 130, 140, 150, 160, 170, 180, 190, 200, 210, 220, 230, 240, 250]\n"
          ]
        }
      ]
    },
    {
      "cell_type": "markdown",
      "source": [
        "3. eliminare dalla seconda lista tutti i valori compresi tra 30 e 60"
      ],
      "metadata": {
        "id": "JGM4ZjIUA38j"
      }
    },
    {
      "cell_type": "code",
      "source": [
        "#soluzione sbagliata\n",
        "count = 0\n",
        "for valore in multipli10:\n",
        "  if valore >= 30 and valore <= 160:\n",
        "    multipli10.remove(valore)\n",
        "    count += 1\n",
        "print(multipli10)"
      ],
      "metadata": {
        "colab": {
          "base_uri": "https://localhost:8080/"
        },
        "id": "yw1HAAltBOHH",
        "outputId": "82c76c06-0d2c-4116-ebb9-e71fe833cd55"
      },
      "execution_count": null,
      "outputs": [
        {
          "output_type": "stream",
          "name": "stdout",
          "text": [
            "[10, 20, 40, 60, 80, 100, 120, 140, 160, 170, 180, 190, 200, 210, 220, 230, 240, 250]\n"
          ]
        }
      ]
    },
    {
      "cell_type": "code",
      "source": [
        "#fare metodo giusto per casa"
      ],
      "metadata": {
        "id": "5LNIvLgJDlM4"
      },
      "execution_count": null,
      "outputs": []
    },
    {
      "cell_type": "markdown",
      "source": [
        "4. caricare in una nuov lista i 5 elementi centrali"
      ],
      "metadata": {
        "id": "npRoycI5DZGA"
      }
    },
    {
      "cell_type": "code",
      "source": [
        "#// divisione intera\n",
        "multiplicentrali = []\n",
        "print(len(multipli10))\n",
        "multiplicentrali = (multipli10[len(multipli10) // 2-2:len(multipli10) // 2+3])\n",
        "print(multiplicentrali)"
      ],
      "metadata": {
        "colab": {
          "base_uri": "https://localhost:8080/"
        },
        "id": "a6m4KzTxDgfD",
        "outputId": "8a7aa412-b709-464e-ade3-44fd1670f205"
      },
      "execution_count": null,
      "outputs": [
        {
          "output_type": "stream",
          "name": "stdout",
          "text": [
            "25\n",
            "[110, 120, 130, 140, 150]\n"
          ]
        }
      ]
    },
    {
      "cell_type": "markdown",
      "source": [
        "5. moltiplicare per 10 tutti i numeri della lista precendente"
      ],
      "metadata": {
        "id": "2i3SvWLMFZyw"
      }
    },
    {
      "cell_type": "code",
      "source": [
        "multiplicentrali = [prodotti * 10 for prodotti in multiplicentrali]\n",
        "print(multiplicentrali)"
      ],
      "metadata": {
        "colab": {
          "base_uri": "https://localhost:8080/"
        },
        "id": "_fOxM_8cFZex",
        "outputId": "6acca585-2902-4e72-d06a-518d07e023fa"
      },
      "execution_count": null,
      "outputs": [
        {
          "output_type": "stream",
          "name": "stdout",
          "text": [
            "[1100, 1200, 1300, 1400, 1500]\n"
          ]
        }
      ]
    },
    {
      "cell_type": "markdown",
      "source": [
        "6. mettere in un'unica lista tutti i valori presenti nelle liste precedenti"
      ],
      "metadata": {
        "id": "YYC_KbmxGADp"
      }
    },
    {
      "cell_type": "code",
      "source": [
        "listaunica = multipli + multipli10 + multiplicentrali\n",
        "print(listaunica)"
      ],
      "metadata": {
        "id": "-eKGNjgcGNv7"
      },
      "execution_count": null,
      "outputs": []
    }
  ]
}