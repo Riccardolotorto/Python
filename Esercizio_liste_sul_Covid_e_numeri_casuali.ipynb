{
  "nbformat": 4,
  "nbformat_minor": 0,
  "metadata": {
    "colab": {
      "provenance": [],
      "collapsed_sections": [],
      "include_colab_link": true
    },
    "kernelspec": {
      "name": "python3",
      "display_name": "Python 3"
    },
    "language_info": {
      "name": "python"
    }
  },
  "cells": [
    {
      "cell_type": "markdown",
      "metadata": {
        "id": "view-in-github",
        "colab_type": "text"
      },
      "source": [
        "<a href=\"https://colab.research.google.com/github/Riccardolotorto/Python/blob/main/Esercizio_liste_sul_Covid_e_numeri_casuali.ipynb\" target=\"_parent\"><img src=\"https://colab.research.google.com/assets/colab-badge.svg\" alt=\"Open In Colab\"/></a>"
      ]
    },
    {
      "cell_type": "markdown",
      "source": [
        "#Esercizio 1"
      ],
      "metadata": {
        "id": "F1InHJmbdM6X"
      }
    },
    {
      "cell_type": "markdown",
      "source": [
        "Cercare su internet le infomrazioni riguardanti le statistiche sui casi di COVID nelle regioni italiane (casi totali) e memorizzarli in opportune struttture dati. Scrivere poi le istruzioni per avere le seguenti informazioni:\n",
        "\n"
      ],
      "metadata": {
        "id": "QhSL9Ve9bdnO"
      }
    },
    {
      "cell_type": "markdown",
      "source": [
        "1. il numero totale di casi di COVID in ITalia"
      ],
      "metadata": {
        "id": "xkMF7u4fcPHU"
      }
    },
    {
      "cell_type": "code",
      "source": [
        "casiTotali = [3660000, 2330000, 2260000, 2110000, 1900000, 1660000, 1530000, 1490000, 1430000, 636000, 587000, 571000, 567000, 506000, 456000, 387000, 272000, 221000, 186000, 91703, 45876]\n",
        "regioni = [\"Lombardia\", \"Veneto\", \"Campania\", \"Lazio\", \"Emilia-Romagna\", \"Sicilia\", \"Piemonte\", \"Puglia\", \"Toscana\", \"Marche\", \"Liguria\", \"Abruzzo\", \"Calabria\", \"Friuli-Venezia Giulia\", \"Sardegna\", \"Umbria\", \"Provincia autonoma di Bolzano - Alto Adige\", \"Provincia autonoma di Trento\", \"Basilicata\", \"Molise\", \"Valle d'Aosta\"]\n",
        "print(sum(casiTotali))"
      ],
      "metadata": {
        "id": "_FhU3WWPcSc0",
        "colab": {
          "base_uri": "https://localhost:8080/"
        },
        "outputId": "61941400-e9e1-49ce-d46a-78f2ad91a001"
      },
      "execution_count": null,
      "outputs": [
        {
          "output_type": "stream",
          "name": "stdout",
          "text": [
            "22896579\n"
          ]
        }
      ]
    },
    {
      "cell_type": "markdown",
      "source": [
        "2. il numero medio di casi di COVID in Italia"
      ],
      "metadata": {
        "id": "cEbSqa1FcTQs"
      }
    },
    {
      "cell_type": "code",
      "source": [
        "from statistics import mean \n",
        "print(mean(casiTotali))"
      ],
      "metadata": {
        "id": "g1IbY5N7cW10",
        "colab": {
          "base_uri": "https://localhost:8080/"
        },
        "outputId": "45cbad89-e7f3-49bb-f418-8c35a70558a2"
      },
      "execution_count": null,
      "outputs": [
        {
          "output_type": "stream",
          "name": "stdout",
          "text": [
            "1090313.2857142857\n"
          ]
        }
      ]
    },
    {
      "cell_type": "markdown",
      "source": [
        "3. le regioni che hanno avuto un numero di casi superiore alla media"
      ],
      "metadata": {
        "id": "RV60Rp2DcXJ1"
      }
    },
    {
      "cell_type": "code",
      "source": [
        "media = mean(casiTotali)\n",
        "for numCasi in casiTotali:\n",
        "  if numCasi > media:\n",
        "    print(regioni[casiTotali.index(numCasi)])"
      ],
      "metadata": {
        "colab": {
          "base_uri": "https://localhost:8080/"
        },
        "id": "0X0tDPX78fB9",
        "outputId": "76083380-f292-4186-8a05-4d96647de2ec"
      },
      "execution_count": null,
      "outputs": [
        {
          "output_type": "stream",
          "name": "stdout",
          "text": [
            "Lombardia\n",
            "Veneto\n",
            "Campania\n",
            "Lazio\n",
            "Emilia-Romagna\n",
            "Sicilia\n",
            "Piemonte\n",
            "Puglia\n",
            "Toscana\n"
          ]
        }
      ]
    },
    {
      "cell_type": "code",
      "source": [
        "#esercizio con la soluzione corretta (funziona anche con due nomi o valori uguali)\n",
        "indice = 0\n",
        "from statistics import mean \n",
        "media = mean(casiTotali)\n",
        "for numCasi in casiTotali:\n",
        "  if numCasi > media:\n",
        "    print(regioni[indice])\n",
        "  indice += 1"
      ],
      "metadata": {
        "colab": {
          "base_uri": "https://localhost:8080/"
        },
        "id": "7WIFc6YgeIIT",
        "outputId": "9c050a54-fb7c-4316-f5d8-0af782394042"
      },
      "execution_count": null,
      "outputs": [
        {
          "output_type": "stream",
          "name": "stdout",
          "text": [
            "Lombardia\n",
            "Veneto\n",
            "Campania\n",
            "Lazio\n",
            "Emilia-Romagna\n",
            "Sicilia\n",
            "Piemonte\n",
            "Puglia\n",
            "Toscana\n"
          ]
        }
      ]
    },
    {
      "cell_type": "code",
      "source": [
        "#soluzione corretta\n",
        "from statistics import mean \n",
        "for indice2 in range(len(casiTotali)):\n",
        "  if casiTotali[indice2] > mean(casiTotali):\n",
        "    print(regioni[indice2])"
      ],
      "metadata": {
        "colab": {
          "base_uri": "https://localhost:8080/"
        },
        "id": "Hs8aFBN8eshM",
        "outputId": "9cbd3f90-75dd-4f25-f75a-9fb7497d3552"
      },
      "execution_count": null,
      "outputs": [
        {
          "output_type": "stream",
          "name": "stdout",
          "text": [
            "Lombardia\n",
            "Veneto\n",
            "Campania\n",
            "Lazio\n",
            "Emilia-Romagna\n",
            "Sicilia\n",
            "Piemonte\n",
            "Puglia\n",
            "Toscana\n"
          ]
        }
      ]
    },
    {
      "cell_type": "markdown",
      "source": [
        "4. la percentuale di casi di COVID nelle varie regioni rispetto al totale italiano. Caricare questi dati in un'altra lista"
      ],
      "metadata": {
        "id": "qcz6bUGqccXh"
      }
    },
    {
      "cell_type": "code",
      "source": [
        "#metodo corretto con la list comprehnsion usata solo una volta\n",
        "percentuali = [round(casiTotali[indice] / sum(casiTotali) * 100, 3) for indice in range(len(casiTotali))]\n",
        "print(percentuali)"
      ],
      "metadata": {
        "colab": {
          "base_uri": "https://localhost:8080/"
        },
        "id": "H3fDJacslHmk",
        "outputId": "a9a6a4b1-5fe3-4a53-fa4a-d2859e139738"
      },
      "execution_count": null,
      "outputs": [
        {
          "output_type": "stream",
          "name": "stdout",
          "text": [
            "[15.985, 10.176, 9.87, 9.215, 8.298, 7.25, 6.682, 6.508, 6.245, 2.778, 2.564, 2.494, 2.476, 2.21, 1.992, 1.69, 1.188, 0.965, 0.812, 0.401, 0.2]\n"
          ]
        }
      ]
    },
    {
      "cell_type": "markdown",
      "source": [
        "Cercare adesso la popolazione delle varie regioni italiane e caricare i dati in una opportuna struttura dati."
      ],
      "metadata": {
        "id": "NsxW5y1NcqHj"
      }
    },
    {
      "cell_type": "code",
      "source": [
        "popolazioneRegioni = [9965046, 4854633, 5590681, 5715190, 4431816, 4801468, 4252279, 3912166, 3676285, 1489789, 1507438, 1273660, 1844586, 1197295, 1579181, 859572, 520891, 538223 , 539999, 290769, 123337]"
      ],
      "metadata": {
        "id": "0ey1FJW4cwtS"
      },
      "execution_count": null,
      "outputs": []
    },
    {
      "cell_type": "markdown",
      "source": [
        "5. trovare, per ogni regione, la percentuale di casi sul totale della popolazione di quella regione: caricare i dati in un'altra lista. Trovare poi la regione con la percentuale più alta in rapporto alla popolazione"
      ],
      "metadata": {
        "id": "O08u1Y_mcxFr"
      }
    },
    {
      "cell_type": "code",
      "source": [
        "indice = 0 \n",
        "ListaPerc = []\n",
        "for NumPopolazione in popolazioneRegioni:\n",
        "  perc = casiTotali[indice] / NumPopolazione * 100\n",
        "  ListaPerc.append(round(perc, 2))\n",
        "  indice += 1\n",
        "print(ListaPerc)\n",
        "print(max(ListaPerc))"
      ],
      "metadata": {
        "colab": {
          "base_uri": "https://localhost:8080/"
        },
        "id": "XypWa8G4hlaD",
        "outputId": "770bc842-023b-47ff-8a11-defa5d59bb04"
      },
      "execution_count": null,
      "outputs": [
        {
          "output_type": "stream",
          "name": "stdout",
          "text": [
            "[36.73, 48.0, 40.42, 36.92, 42.87, 34.57, 35.98, 38.09, 38.9, 42.69, 38.94, 44.83, 30.74, 42.26, 28.88, 45.02, 52.22, 41.06, 34.44, 31.54, 37.2]\n",
            "52.22\n"
          ]
        }
      ]
    },
    {
      "cell_type": "code",
      "source": [
        "#metodo corretto con la list comprehension\n",
        "listaperc = [round(casiTotali[indice] / popolazioneRegioni[indice] * 100, 3) for indice in range(len(casiTotali))]\n",
        "print(listaperc)\n",
        "print(max(listaperc))\n",
        "print(regioni[listaperc.index(max(listaperc))])"
      ],
      "metadata": {
        "colab": {
          "base_uri": "https://localhost:8080/"
        },
        "id": "b_tkWji2j5Ak",
        "outputId": "704de30a-abf9-4663-ab2c-28d79ad2d61d"
      },
      "execution_count": null,
      "outputs": [
        {
          "output_type": "stream",
          "name": "stdout",
          "text": [
            "[36.728, 47.995, 40.424, 36.919, 42.872, 34.573, 35.981, 38.086, 38.898, 42.691, 38.94, 44.831, 30.739, 42.262, 28.876, 45.022, 52.218, 41.061, 34.445, 31.538, 37.196]\n",
            "52.218\n",
            "Provincia autonoma di Bolzano - Alto Adige\n"
          ]
        }
      ]
    },
    {
      "cell_type": "markdown",
      "source": [
        "6. trovare la regione che ha avuto meno casi in relazione alla popolazione"
      ],
      "metadata": {
        "id": "uULjwtSVc-pc"
      }
    },
    {
      "cell_type": "code",
      "source": [
        "print(min(listaperc))\n",
        "print(regioni[listaperc.index(min(listaperc))])"
      ],
      "metadata": {
        "id": "b11IAXxHdC-h",
        "colab": {
          "base_uri": "https://localhost:8080/"
        },
        "outputId": "46acc5a0-6261-4cf6-8116-96babce34106"
      },
      "execution_count": null,
      "outputs": [
        {
          "output_type": "stream",
          "name": "stdout",
          "text": [
            "28.876\n",
            "Sardegna\n"
          ]
        }
      ]
    },
    {
      "cell_type": "markdown",
      "source": [
        "#Esercizio 2"
      ],
      "metadata": {
        "id": "lDj-tyLwdDTh"
      }
    },
    {
      "cell_type": "markdown",
      "source": [
        "1. Creare due liste di 20 numeri casuali interi, compresi tra 1 e 10 non utilizzzando la list comprehension. Determinare il tempo di esecuzione di questo programma"
      ],
      "metadata": {
        "id": "HiNbJe-ldQTC"
      }
    },
    {
      "cell_type": "code",
      "source": [
        "#metodo più veloce rispetto a quello sotto\n",
        "import random\n",
        "import time \n",
        "start = time.time()\n",
        "listaCasuali = []\n",
        "listaCasuali2 = []\n",
        "for casual in range(20):\n",
        "  listaCasuali.append(random.randint(1, 10))\n",
        "  listaCasuali2.append(random.randint(1, 10))\n",
        "end = time.time()\n",
        "print(listaCasuali)\n",
        "print(listaCasuali2)\n",
        "print(end - start)"
      ],
      "metadata": {
        "id": "hruqXxVAdWHr",
        "colab": {
          "base_uri": "https://localhost:8080/"
        },
        "outputId": "dfbc9b0a-b118-4ed4-fa8a-1bfe2f7e61a4"
      },
      "execution_count": null,
      "outputs": [
        {
          "output_type": "stream",
          "name": "stdout",
          "text": [
            "[2, 8, 2, 4, 3, 7, 1, 9, 4, 9, 3, 6, 10, 2, 1, 3, 9, 2, 8, 8]\n",
            "[2, 7, 8, 1, 5, 4, 8, 3, 7, 9, 8, 5, 3, 1, 8, 4, 3, 2, 1, 8]\n",
            "0.0002262592315673828\n"
          ]
        }
      ]
    },
    {
      "cell_type": "markdown",
      "source": [
        "2. Creare due liste di 20 numeri casuali interi, compresi tra 1 e 10  utilizzzando la list comprehension. Determinare il tempo di esecuzione di questo programma\n"
      ],
      "metadata": {
        "id": "wu_rcB1-dWgK"
      }
    },
    {
      "cell_type": "code",
      "source": [
        "import random\n",
        "import time \n",
        "start = time.time()\n",
        "listaCasuali = [random.randint(1, 10) for cas in range(20)]\n",
        "listaCasuali2 = [random.randint(1, 10) for cas in range(20)]\n",
        "end = time.time()\n",
        "print(listaCasuali)\n",
        "print(listaCasuali2)\n",
        "print(end - start)"
      ],
      "metadata": {
        "id": "rqz-1n7qdx3A",
        "colab": {
          "base_uri": "https://localhost:8080/"
        },
        "outputId": "ac7153db-4ef5-44dc-bd86-eac110a06a8d"
      },
      "execution_count": null,
      "outputs": [
        {
          "output_type": "stream",
          "name": "stdout",
          "text": [
            "[8, 3, 6, 7, 7, 5, 7, 2, 2, 7, 2, 1, 7, 9, 5, 10, 9, 4, 4, 4]\n",
            "[2, 5, 9, 3, 2, 6, 3, 5, 5, 4, 2, 2, 9, 2, 4, 8, 9, 3, 4, 10]\n",
            "0.0003037452697753906\n"
          ]
        }
      ]
    },
    {
      "cell_type": "markdown",
      "source": [
        "3. creare una terza lista di valore booleani: inserire un valore vero se il primo elemento della prima lista è maggiore del primo elemento della seconda lista e così via per tutti gli elemeni delle due liste"
      ],
      "metadata": {
        "id": "ep4BmOYddyIi"
      }
    },
    {
      "cell_type": "code",
      "source": [
        "listaBooleani = []\n",
        "for i in range(20):\n",
        "  if listaCasuali[i] > listaCasuali2[i]:\n",
        "    listaBooleani.append(0)\n",
        "print(listaCasuali)\n",
        "print(listaCasuali2)\n",
        "print(listaBooleani)"
      ],
      "metadata": {
        "id": "838ZxBNVeCfn",
        "colab": {
          "base_uri": "https://localhost:8080/"
        },
        "outputId": "95bbec68-de84-4dd1-b44c-d52eaa3e1ae5"
      },
      "execution_count": null,
      "outputs": [
        {
          "output_type": "stream",
          "name": "stdout",
          "text": [
            "[8, 3, 6, 7, 7, 5, 7, 2, 2, 7, 2, 1, 7, 9, 5, 10, 9, 4, 4, 4]\n",
            "[2, 5, 9, 3, 2, 6, 3, 5, 5, 4, 2, 2, 9, 2, 4, 8, 9, 3, 4, 10]\n",
            "[0, 0, 0, 0, 0, 0, 0, 0, 0]\n"
          ]
        }
      ]
    },
    {
      "cell_type": "code",
      "source": [
        "#soluzione con la list comprehension\n",
        "listaBooleani = [(listaCasuali[i] > listaCasuali2[i]) for i in range(0, len(listaCasuali))]\n",
        "print(listaCasuali)\n",
        "print(listaCasuali2)\n",
        "print(listaBooleani)"
      ],
      "metadata": {
        "colab": {
          "base_uri": "https://localhost:8080/"
        },
        "id": "onlpsIF5buqc",
        "outputId": "b9443c30-df33-4e2b-b9ad-dac050d33596"
      },
      "execution_count": null,
      "outputs": [
        {
          "output_type": "stream",
          "name": "stdout",
          "text": [
            "[8, 3, 6, 7, 7, 5, 7, 2, 2, 7, 2, 1, 7, 9, 5, 10, 9, 4, 4, 4]\n",
            "[2, 5, 9, 3, 2, 6, 3, 5, 5, 4, 2, 2, 9, 2, 4, 8, 9, 3, 4, 10]\n",
            "[True, False, False, True, True, False, True, False, False, True, False, False, False, True, True, True, False, True, False, False]\n"
          ]
        }
      ]
    },
    {
      "cell_type": "markdown",
      "source": [
        "4. utilizzando la terza lista, contare quanti sono gli elementi della prima lista che sono maggiori della seconda lista"
      ],
      "metadata": {
        "id": "pJcj5hNVeC4b"
      }
    },
    {
      "cell_type": "code",
      "source": [
        "listaBooleani.count(True)"
      ],
      "metadata": {
        "id": "ZOdPph2WeMBg",
        "colab": {
          "base_uri": "https://localhost:8080/"
        },
        "outputId": "04035acb-1c5f-4e54-9c02-6d2d30b6ce9e"
      },
      "execution_count": null,
      "outputs": [
        {
          "output_type": "execute_result",
          "data": {
            "text/plain": [
              "9"
            ]
          },
          "metadata": {},
          "execution_count": 71
        }
      ]
    },
    {
      "cell_type": "markdown",
      "source": [
        "5. eliminare dalla seconda lista tutti gli elementi minori rispetto a quelli della prima lista, inserendoli in una quarta lista"
      ],
      "metadata": {
        "id": "9KHq-xy7eMYO"
      }
    },
    {
      "cell_type": "code",
      "source": [
        "print(listaCasuali)\n",
        "print(listaCasuali2)\n",
        "listaCasuali3 = []\n",
        "indice = 0\n",
        "for y in listaCasuali2:\n",
        "  indice += 1\n",
        "  if y < listaCasuali[indice]:\n",
        "    listaCasuali3.append(y)\n",
        "    listaCasuali2.pop(y)\n",
        "print(listaCasuali)\n",
        "print(listaCasuali2)\n",
        "print(listaCasuali3)"
      ],
      "metadata": {
        "id": "VfgmqLmteRbD",
        "colab": {
          "base_uri": "https://localhost:8080/"
        },
        "outputId": "7e5acb17-5ea4-4f89-d0fd-988812897803"
      },
      "execution_count": null,
      "outputs": [
        {
          "output_type": "stream",
          "name": "stdout",
          "text": [
            "[8, 3, 6, 7, 7, 5, 7, 2, 2, 7, 2, 1, 7, 9, 5, 10, 9, 4, 4, 4]\n",
            "[2, 5, 9, 3, 2, 6, 3, 5, 5, 4, 2, 2, 9, 2, 4, 8, 9, 3, 4, 10]\n",
            "[8, 3, 6, 7, 7, 5, 7, 2, 2, 7, 2, 1, 7, 9, 5, 10, 9, 4, 4, 4]\n",
            "[2, 5, 6, 2, 2, 9, 2, 4, 8, 9, 3, 4, 10]\n",
            "[2, 5, 3, 6, 5, 2, 3]\n"
          ]
        }
      ]
    },
    {
      "cell_type": "markdown",
      "source": [
        "6. svutoare tutte e quattro le liste"
      ],
      "metadata": {
        "id": "R83H7_oheRzI"
      }
    },
    {
      "cell_type": "code",
      "source": [
        "listaCasuali.clear()\n",
        "listaCasuali2.clear()\n",
        "listaCasuali3.clear()\n",
        "listaBooleani.clear()"
      ],
      "metadata": {
        "id": "iPDbfgW2efAJ"
      },
      "execution_count": null,
      "outputs": []
    }
  ]
}