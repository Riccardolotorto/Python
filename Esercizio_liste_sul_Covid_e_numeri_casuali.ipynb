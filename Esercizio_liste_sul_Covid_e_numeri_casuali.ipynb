{
  "nbformat": 4,
  "nbformat_minor": 0,
  "metadata": {
    "colab": {
      "provenance": [],
      "collapsed_sections": [],
      "include_colab_link": true
    },
    "kernelspec": {
      "name": "python3",
      "display_name": "Python 3"
    },
    "language_info": {
      "name": "python"
    }
  },
  "cells": [
    {
      "cell_type": "markdown",
      "metadata": {
        "id": "view-in-github",
        "colab_type": "text"
      },
      "source": [
        "<a href=\"https://colab.research.google.com/github/Riccardolotorto/Python/blob/main/Esercizio_liste_sul_Covid_e_numeri_casuali.ipynb\" target=\"_parent\"><img src=\"https://colab.research.google.com/assets/colab-badge.svg\" alt=\"Open In Colab\"/></a>"
      ]
    },
    {
      "cell_type": "markdown",
      "source": [
        "#Esercizio 1"
      ],
      "metadata": {
        "id": "F1InHJmbdM6X"
      }
    },
    {
      "cell_type": "markdown",
      "source": [
        "Cercare su internet le infomrazioni riguardanti le statistiche sui casi di COVID nelle regioni italiane (casi totali) e memorizzarli in opportune struttture dati. Scrivere poi le istruzioni per avere le seguenti informazioni:\n",
        "\n"
      ],
      "metadata": {
        "id": "QhSL9Ve9bdnO"
      }
    },
    {
      "cell_type": "markdown",
      "source": [
        "1. il numero totale di casi di COVID in ITalia"
      ],
      "metadata": {
        "id": "xkMF7u4fcPHU"
      }
    },
    {
      "cell_type": "code",
      "source": [
        "casiTotali = [3660000, 2330000, 2260000, 2110000, 1900000, 1660000, 1530000, 1490000, 1430000, 636000, 587000, 571000, 567000, 506000, 456000, 387000, 272000, 221000, 186000, 91703, 45876]\n",
        "regioni = [\"Lombardia\", \"Veneto\", \"Campania\", \"Lazio\", \"Emilia-Romagna\", \"Sicilia\", \"Piemonte\", \"Puglia\", \"Toscana\", \"Marche\", \"Liguria\", \"Abruzzo\", \"Calabria\", \"Friuli-Venezia Giulia\", \"Sardegna\", \"Umbria\", \"Provincia autonoma di Bolzano - Alto Adige\", \"Provincia autonoma di Trento\", \"Basilicata\", \"Molise\", \"Valle d'Aosta\"]\n",
        "print(sum(casiTotali))"
      ],
      "metadata": {
        "id": "_FhU3WWPcSc0",
        "colab": {
          "base_uri": "https://localhost:8080/"
        },
        "outputId": "4ad4ec0d-5cac-46c5-f9a0-0c33cc3043e5"
      },
      "execution_count": null,
      "outputs": [
        {
          "output_type": "stream",
          "name": "stdout",
          "text": [
            "22896579\n"
          ]
        }
      ]
    },
    {
      "cell_type": "markdown",
      "source": [
        "2. il numero medio di casi di COVID in Italia"
      ],
      "metadata": {
        "id": "cEbSqa1FcTQs"
      }
    },
    {
      "cell_type": "code",
      "source": [
        "from statistics import mean \n",
        "print(mean(casiTotali))"
      ],
      "metadata": {
        "id": "g1IbY5N7cW10",
        "colab": {
          "base_uri": "https://localhost:8080/"
        },
        "outputId": "45cbad89-e7f3-49bb-f418-8c35a70558a2"
      },
      "execution_count": null,
      "outputs": [
        {
          "output_type": "stream",
          "name": "stdout",
          "text": [
            "1090313.2857142857\n"
          ]
        }
      ]
    },
    {
      "cell_type": "markdown",
      "source": [
        "3. le regioni che hanno avuto un numero di casi superiore alla media"
      ],
      "metadata": {
        "id": "RV60Rp2DcXJ1"
      }
    },
    {
      "cell_type": "code",
      "source": [
        "media = mean(casiTotali)\n",
        "for numCasi in casiTotali:\n",
        "  if numCasi > media:\n",
        "    print(regioni[casiTotali.index(numCasi)])\n"
      ],
      "metadata": {
        "colab": {
          "base_uri": "https://localhost:8080/"
        },
        "id": "0X0tDPX78fB9",
        "outputId": "76083380-f292-4186-8a05-4d96647de2ec"
      },
      "execution_count": null,
      "outputs": [
        {
          "output_type": "stream",
          "name": "stdout",
          "text": [
            "Lombardia\n",
            "Veneto\n",
            "Campania\n",
            "Lazio\n",
            "Emilia-Romagna\n",
            "Sicilia\n",
            "Piemonte\n",
            "Puglia\n",
            "Toscana\n"
          ]
        }
      ]
    },
    {
      "cell_type": "markdown",
      "source": [
        "4. la percentuale di casi di COVID nelle varie regioni rispetto al totale italiano. Caricare questi dati in un'altra lista"
      ],
      "metadata": {
        "id": "qcz6bUGqccXh"
      }
    },
    {
      "cell_type": "code",
      "source": [
        "totale = sum(casiTotali)\n",
        "percentuali = [(perc / totale) * 100 for perc in casiTotali]\n",
        "print(percentuali)"
      ],
      "metadata": {
        "id": "wZAeQZUrcpup",
        "colab": {
          "base_uri": "https://localhost:8080/"
        },
        "outputId": "1f33ef3c-e787-447f-f368-5173c13b47f2"
      },
      "execution_count": null,
      "outputs": [
        {
          "output_type": "stream",
          "name": "stdout",
          "text": [
            "[15.984920716758605, 10.176192696734303, 9.870470169364602, 9.215350467858102, 8.298182885749002, 7.249991363338602, 6.682220955366301, 6.507522368297902, 6.245474487695302, 2.777707534387561, 2.563701765228771, 2.4938223304014104, 2.476352471694571, 2.2099371264152605, 1.9915638925797605, 1.6902088298867703, 1.1879503920651202, 0.9652096935529103, 0.8123484298680601, 0.4005096132483372, 0.200361809508748]\n"
          ]
        }
      ]
    },
    {
      "cell_type": "markdown",
      "source": [
        "Cercare adesso la popolazione delle varie regioni italiane e caricare i dati in una opportuna struttura dati."
      ],
      "metadata": {
        "id": "NsxW5y1NcqHj"
      }
    },
    {
      "cell_type": "code",
      "source": [
        "popolazioneRegioni = [9965046, 4854633, 5590681, 5715190, 4431816, 4801468, 4252279, 3912166, 3676285, 1489789, 1507438, 1273660, 1844586, 1197295, 1579181, 859572, 520891, 538223 , 539999, 290769, 123337]"
      ],
      "metadata": {
        "id": "0ey1FJW4cwtS"
      },
      "execution_count": null,
      "outputs": []
    },
    {
      "cell_type": "markdown",
      "source": [
        "5. trovare, per ogni regione, la percentuale di casi sul totale della popolazione di quella regione: caricare i dati in un'altra lista. Trovare poi la regione con la percentuale più alta in rapporto alla popolazione"
      ],
      "metadata": {
        "id": "O08u1Y_mcxFr"
      }
    },
    {
      "cell_type": "code",
      "source": [
        "percMax = []\n",
        "for value in casiTotali:\n",
        "  pop = popolazioneRegioni[casiTotali.index(value)]\n",
        "  calc = (value / pop) * 100\n",
        "  percMax.append(round(calc,2))\n",
        "print(max(percMax))"
      ],
      "metadata": {
        "id": "JLt5Ey_Wc-Pp",
        "colab": {
          "base_uri": "https://localhost:8080/"
        },
        "outputId": "1817aa04-73f0-44fe-bf0e-6511ff493e4c"
      },
      "execution_count": null,
      "outputs": [
        {
          "output_type": "stream",
          "name": "stdout",
          "text": [
            "52.22\n"
          ]
        }
      ]
    },
    {
      "cell_type": "markdown",
      "source": [
        "6. trovare la regione che ha avuto meno casi in relazione alla popolazione"
      ],
      "metadata": {
        "id": "uULjwtSVc-pc"
      }
    },
    {
      "cell_type": "code",
      "source": [
        "print(min(percMax))"
      ],
      "metadata": {
        "id": "b11IAXxHdC-h",
        "colab": {
          "base_uri": "https://localhost:8080/"
        },
        "outputId": "5763ec02-6a61-43cc-a20d-72853087a9b3"
      },
      "execution_count": null,
      "outputs": [
        {
          "output_type": "stream",
          "name": "stdout",
          "text": [
            "28.88\n"
          ]
        }
      ]
    },
    {
      "cell_type": "markdown",
      "source": [
        "#Esercizio 2"
      ],
      "metadata": {
        "id": "lDj-tyLwdDTh"
      }
    },
    {
      "cell_type": "markdown",
      "source": [
        "1. Creare due liste di 20 numeri casuali interi, compresi tra 1 e 10 non utilizzzando la list comprehension. Determinare il tempo di esecuzione di questo programma"
      ],
      "metadata": {
        "id": "HiNbJe-ldQTC"
      }
    },
    {
      "cell_type": "code",
      "source": [
        "import random\n",
        "import time \n",
        "start = time.time()\n",
        "listaCasuali = []\n",
        "listaCasuali2 = []\n",
        "for casual in range(20):\n",
        "  listaCasuali.append(casual)\n",
        "  listaCasuali2.append(casual)\n",
        "end = time.time()\n",
        "print(end - start)"
      ],
      "metadata": {
        "id": "hruqXxVAdWHr",
        "colab": {
          "base_uri": "https://localhost:8080/"
        },
        "outputId": "3252b64f-7434-40f8-dd02-6763418ca73a"
      },
      "execution_count": 13,
      "outputs": [
        {
          "output_type": "stream",
          "name": "stdout",
          "text": [
            "0.00011491775512695312\n"
          ]
        }
      ]
    },
    {
      "cell_type": "markdown",
      "source": [
        "2. Creare due liste di 20 numeri casuali interi, compresi tra 1 e 10  utilizzzando la list comprehension. Determinare il tempo di esecuzione di questo programma\n"
      ],
      "metadata": {
        "id": "wu_rcB1-dWgK"
      }
    },
    {
      "cell_type": "code",
      "source": [
        "import random\n",
        "import time \n",
        "start = time.time()\n",
        "listaCasuali = [random.randint(1, 10) for cas in range(20)]\n",
        "listaCasuali2 = [random.randint(1, 10) for cas in range(20)]\n",
        "end = time.time()\n",
        "print(end - start)"
      ],
      "metadata": {
        "id": "rqz-1n7qdx3A",
        "colab": {
          "base_uri": "https://localhost:8080/"
        },
        "outputId": "2c6c94d8-1dc7-446b-d7b7-83ca4977d942"
      },
      "execution_count": 14,
      "outputs": [
        {
          "output_type": "stream",
          "name": "stdout",
          "text": [
            "0.0002923011779785156\n"
          ]
        }
      ]
    },
    {
      "cell_type": "markdown",
      "source": [
        "3. creare una terza lista di valore booleani: inserire un valore vero se il primo elemento della prima lista è maggiore del primo elemento della seconda lista e così via per tutti gli elemeni delle due liste"
      ],
      "metadata": {
        "id": "ep4BmOYddyIi"
      }
    },
    {
      "cell_type": "code",
      "source": [
        "listaBooleani = []\n",
        "for i in range(20):\n",
        "  if listaCasuali[i] > listaCasuali2[i]:\n",
        "    listaBooleani.append(0)\n",
        "print(listaCasuali)\n",
        "print(listaCasuali2)\n",
        "print(listaBooleani)"
      ],
      "metadata": {
        "id": "838ZxBNVeCfn",
        "colab": {
          "base_uri": "https://localhost:8080/"
        },
        "outputId": "871a1edd-f912-46c2-915d-e9228ac08518"
      },
      "execution_count": 15,
      "outputs": [
        {
          "output_type": "stream",
          "name": "stdout",
          "text": [
            "[1, 3, 1, 8, 9, 5, 8, 2, 3, 1, 1, 8, 5, 6, 3, 9, 6, 9, 5, 9]\n",
            "[10, 4, 3, 5, 1, 2, 1, 1, 8, 5, 5, 2, 5, 5, 7, 4, 5, 6, 2, 7]\n",
            "[0, 0, 0, 0, 0, 0, 0, 0, 0, 0, 0, 0]\n"
          ]
        }
      ]
    },
    {
      "cell_type": "markdown",
      "source": [
        "4. utilizzando la terza lista, contare quanti sono gli elementi della prima lista che sono maggiori della seconda lista"
      ],
      "metadata": {
        "id": "pJcj5hNVeC4b"
      }
    },
    {
      "cell_type": "code",
      "source": [
        "print(len(listaBooleani))"
      ],
      "metadata": {
        "id": "ZOdPph2WeMBg",
        "colab": {
          "base_uri": "https://localhost:8080/"
        },
        "outputId": "f2aa2fd4-b195-4fa8-abdd-45152a9e225e"
      },
      "execution_count": 16,
      "outputs": [
        {
          "output_type": "stream",
          "name": "stdout",
          "text": [
            "12\n"
          ]
        }
      ]
    },
    {
      "cell_type": "markdown",
      "source": [
        "5. eliminare dalla seconda lista tutti gli elementi minori rispetto a quelli della prima lista, inserendoli in una quarta lista"
      ],
      "metadata": {
        "id": "9KHq-xy7eMYO"
      }
    },
    {
      "cell_type": "code",
      "source": [
        "listaCasuali3 = []\n",
        "for i in range(20):\n",
        "  if listaCasuali2[i] < listaCasuali[i]:\n",
        "    listaCasuali3.append(listaCasuali2[i])\n",
        "print(listaCasuali2)\n",
        "print(listaCasuali3)"
      ],
      "metadata": {
        "id": "VfgmqLmteRbD",
        "colab": {
          "base_uri": "https://localhost:8080/"
        },
        "outputId": "bb5b4d36-1436-4f3f-ddeb-b3d20b27f0fe"
      },
      "execution_count": 17,
      "outputs": [
        {
          "output_type": "stream",
          "name": "stdout",
          "text": [
            "[10, 4, 3, 5, 1, 2, 1, 1, 8, 5, 5, 2, 5, 5, 7, 4, 5, 6, 2, 7]\n",
            "[5, 1, 2, 1, 1, 2, 5, 4, 5, 6, 2, 7]\n"
          ]
        }
      ]
    },
    {
      "cell_type": "markdown",
      "source": [
        "6. svutoare tutte e quattro le liste"
      ],
      "metadata": {
        "id": "R83H7_oheRzI"
      }
    },
    {
      "cell_type": "code",
      "source": [
        "listaCasuali.clear()\n",
        "listaCasuali2.clear()\n",
        "listaCasuali3.clear()\n",
        "listaBooleani.clear()"
      ],
      "metadata": {
        "id": "iPDbfgW2efAJ"
      },
      "execution_count": 11,
      "outputs": []
    }
  ]
}