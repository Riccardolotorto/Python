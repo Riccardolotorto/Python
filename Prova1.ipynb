{
  "nbformat": 4,
  "nbformat_minor": 0,
  "metadata": {
    "colab": {
      "provenance": [],
      "collapsed_sections": [],
      "authorship_tag": "ABX9TyN9X1QUQXf++FaxMrlgNRCV",
      "include_colab_link": true
    },
    "kernelspec": {
      "name": "python3",
      "display_name": "Python 3"
    },
    "language_info": {
      "name": "python"
    }
  },
  "cells": [
    {
      "cell_type": "markdown",
      "metadata": {
        "id": "view-in-github",
        "colab_type": "text"
      },
      "source": [
        "<a href=\"https://colab.research.google.com/github/Riccardolotorto/Python/blob/main/Prova1.ipynb\" target=\"_parent\"><img src=\"https://colab.research.google.com/assets/colab-badge.svg\" alt=\"Open In Colab\"/></a>"
      ]
    },
    {
      "cell_type": "code",
      "execution_count": null,
      "metadata": {
        "colab": {
          "base_uri": "https://localhost:8080/"
        },
        "id": "MJA4KaR_CIB9",
        "outputId": "94f1c365-ed71-42e3-c57e-19ccd0ff77b1"
      },
      "outputs": [
        {
          "output_type": "stream",
          "name": "stdout",
          "text": [
            "Hello world\n"
          ]
        }
      ],
      "source": [
        "print(\"Hello world\")"
      ]
    },
    {
      "cell_type": "code",
      "source": [
        "a = 10\n",
        "b = 20\n",
        "c = 10.5\n",
        "\n",
        "print(a,b,c)"
      ],
      "metadata": {
        "colab": {
          "base_uri": "https://localhost:8080/"
        },
        "id": "vkX3ydZcF3xt",
        "outputId": "811d4441-ee5b-4d3f-9d50-b3ea830c2522"
      },
      "execution_count": null,
      "outputs": [
        {
          "output_type": "stream",
          "name": "stdout",
          "text": [
            "10 20 10.5\n"
          ]
        }
      ]
    },
    {
      "cell_type": "code",
      "source": [
        "somma = a + b\n",
        "sottrazione = a - b\n",
        "moltiplicazione = a * b\n",
        "divisione = a / b\n",
        "print(somma, sottrazione, moltiplicazione, divisione)"
      ],
      "metadata": {
        "colab": {
          "base_uri": "https://localhost:8080/"
        },
        "id": "fDcdD6x3GKVk",
        "outputId": "102219ca-e932-43ae-d2a1-5996aa211f4f"
      },
      "execution_count": null,
      "outputs": [
        {
          "output_type": "stream",
          "name": "stdout",
          "text": [
            "30 -10 200 0.5\n"
          ]
        }
      ]
    },
    {
      "cell_type": "code",
      "source": [
        "#inserimento dei dati\n",
        "\n",
        "peso = int(input(\"inserisci il tuo peso: \"))\n",
        "altezza = float(input(\"inserisci la tua altezza: \"))\n",
        "\n",
        "imc = peso / (altezza * altezza)\n",
        "print(\"il tuo indice di massa corporea è: \", imc)\n",
        "\n",
        "if imc < 18:\n",
        "  print(\"sei sottopeso\")\n",
        "elif imc > 25:\n",
        "  print(\"sei sovrappeso\")\n",
        "else:\n",
        "  print(\"sei normopeso\")\n",
        "\n",
        " \n",
        "\n"
      ],
      "metadata": {
        "colab": {
          "base_uri": "https://localhost:8080/"
        },
        "id": "9QB55qHdG4EN",
        "outputId": "0df4b117-202d-4bb0-ccc5-41b4ee060d4a"
      },
      "execution_count": null,
      "outputs": [
        {
          "output_type": "stream",
          "name": "stdout",
          "text": [
            "inserisci il tuo peso: 90\n",
            "inserisci la tua altezza: 1.0\n",
            "il tuo indice di massa corporea è:  90.0\n",
            "sei sovrappeso\n"
          ]
        }
      ]
    },
    {
      "cell_type": "code",
      "source": [
        "#scrivere un programma che calcoli le tasse da pagare \n",
        "#se il reddito è inferiore a 30.000 euro si paga il 15%\n",
        "#se il reddito è compreso tra 30.000 e 60.000 si paga il 20%\n",
        "#se il reddito è superiore al 60.000 si paga il 30%\n",
        "\n",
        "reddito = int(input(\"inserisci il tuo reddito: \"))\n",
        "percentuale = 0\n",
        "tassa = 0\n",
        "\n",
        "if reddito < 30000:\n",
        "  percentuale = 15\n",
        "elif reddito > 60000:\n",
        "  percentuale = 30\n",
        "else:\n",
        "  percentuale = 20\n",
        "  \n",
        "tassa = (reddito * percentuale) / 100\n",
        "print(\"devi pagare il 20% di tasse\")\n",
        "print(\"devi pagare \", tassa, \" euro\")"
      ],
      "metadata": {
        "colab": {
          "base_uri": "https://localhost:8080/"
        },
        "id": "XQ5_U628Pdyz",
        "outputId": "d7c7e354-9a70-42d7-a3b8-5ff7e13be978"
      },
      "execution_count": null,
      "outputs": [
        {
          "output_type": "stream",
          "name": "stdout",
          "text": [
            "inserisci il tuo reddito: 15000\n",
            "devi pagare il 15% di tasse\n",
            "devi pagare  2250.0  euro\n"
          ]
        }
      ]
    },
    {
      "cell_type": "code",
      "source": [
        "#un negozio vuole incentivare gli acquisti applicando sconti maggiori a chi spende di più\n",
        "#se un cliente spende fino a 100 euro gli viene fatto lo sconto del 15%\n",
        "#se spende da 100 a 200 euro lo sconto è del 20%\n",
        "#se spende da 200 a 300 lo sconto è del 40%\n",
        "#se spende oltre 400 lo sconto è del 60%\n",
        "#scrivere un programma che dato il totale dell'acquisto calcoli il prezzo finale deve pagare\n",
        "\n",
        "spesa = int(input(\"Soldi che spendi: \"))\n",
        "percentuale = 0\n",
        "sconto = 0\n",
        "totale = 0\n",
        "\n",
        "if spesa <= 100:\n",
        "  percentuale = 15\n",
        "elif spesa > 100 and spesa <= 200:\n",
        "  percentuale = 20\n",
        "elif spesa > 200 and spesa <= 300:\n",
        "  percentuale = 40\n",
        "elif spesa >= 400:\n",
        "  percentuale = 60\n",
        "\n",
        "sconto = (spesa * percentuale) / 100\n",
        "totale = spesa - sconto\n",
        "print(\"Il totale da pagare è: \", totale, \" euro\")\n",
        "\n",
        "\n"
      ],
      "metadata": {
        "id": "ud9SyI-GRBdC",
        "colab": {
          "base_uri": "https://localhost:8080/"
        },
        "outputId": "9e04f310-ad04-4de9-816b-40e139e2f439"
      },
      "execution_count": null,
      "outputs": [
        {
          "output_type": "stream",
          "name": "stdout",
          "text": [
            "Soldi che spendi: 560\n",
            "Il totale da pagare è:  224.0  euro\n"
          ]
        }
      ]
    }
  ]
}