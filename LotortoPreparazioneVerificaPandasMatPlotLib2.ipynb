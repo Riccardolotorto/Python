{
  "nbformat": 4,
  "nbformat_minor": 0,
  "metadata": {
    "colab": {
      "provenance": [],
      "authorship_tag": "ABX9TyMFRdxvx0YgQBDKgvq0XFq4",
      "include_colab_link": true
    },
    "kernelspec": {
      "name": "python3",
      "display_name": "Python 3"
    },
    "language_info": {
      "name": "python"
    }
  },
  "cells": [
    {
      "cell_type": "markdown",
      "metadata": {
        "id": "view-in-github",
        "colab_type": "text"
      },
      "source": [
        "<a href=\"https://colab.research.google.com/github/Riccardolotorto/Python/blob/main/LotortoPreparazioneVerificaPandasMatPlotLib2.ipynb\" target=\"_parent\"><img src=\"https://colab.research.google.com/assets/colab-badge.svg\" alt=\"Open In Colab\"/></a>"
      ]
    },
    {
      "cell_type": "code",
      "execution_count": 1,
      "metadata": {
        "colab": {
          "base_uri": "https://localhost:8080/",
          "height": 424
        },
        "id": "AqHW_uudPGFf",
        "outputId": "3d5869b1-30e3-4866-a649-77d45b7cbe56"
      },
      "outputs": [
        {
          "output_type": "execute_result",
          "data": {
            "text/plain": [
              "                    data stato  codice_regione denominazione_regione  \\\n",
              "0    2022-11-19T17:00:00   ITA              13               Abruzzo   \n",
              "1    2022-11-19T17:00:00   ITA              13               Abruzzo   \n",
              "2    2022-11-19T17:00:00   ITA              13               Abruzzo   \n",
              "3    2022-11-19T17:00:00   ITA              13               Abruzzo   \n",
              "4    2022-11-19T17:00:00   ITA              13               Abruzzo   \n",
              "..                   ...   ...             ...                   ...   \n",
              "144  2022-11-19T17:00:00   ITA               5                Veneto   \n",
              "145  2022-11-19T17:00:00   ITA               5                Veneto   \n",
              "146  2022-11-19T17:00:00   ITA               5                Veneto   \n",
              "147  2022-11-19T17:00:00   ITA               5                Veneto   \n",
              "148  2022-11-19T17:00:00   ITA               5                Veneto   \n",
              "\n",
              "     codice_provincia               denominazione_provincia sigla_provincia  \\\n",
              "0                  66                              L'Aquila              AQ   \n",
              "1                  67                                Teramo              TE   \n",
              "2                  68                               Pescara              PE   \n",
              "3                  69                                Chieti              CH   \n",
              "4                 879    Fuori Regione / Provincia Autonoma             NaN   \n",
              "..                ...                                   ...             ...   \n",
              "144                27                               Venezia              VE   \n",
              "145                28                                Padova              PD   \n",
              "146                29                                Rovigo              RO   \n",
              "147               899    Fuori Regione / Provincia Autonoma             NaN   \n",
              "148               999  In fase di definizione/aggiornamento             NaN   \n",
              "\n",
              "           lat       long  totale_casi  note codice_nuts_1 codice_nuts_2  \\\n",
              "0    42.351222  13.398438       123235   NaN           ITF          ITF1   \n",
              "1    42.658918  13.704400       143295   NaN           ITF          ITF1   \n",
              "2    42.464584  14.213648       142547   NaN           ITF          ITF1   \n",
              "3    42.351032  14.167546       171694   NaN           ITF          ITF1   \n",
              "4          NaN        NaN        12772   NaN           ITF          ITF1   \n",
              "..         ...        ...          ...   ...           ...           ...   \n",
              "144  45.434905  12.338452       420955   NaN           ITH          ITH3   \n",
              "145  45.406930  11.876087       488071   NaN           ITH          ITH3   \n",
              "146  45.071073  11.790070       108879   NaN           ITH          ITH3   \n",
              "147        NaN        NaN        37545   NaN           ITH          ITH3   \n",
              "148        NaN        NaN        12075   NaN           ITH          ITH3   \n",
              "\n",
              "    codice_nuts_3  \n",
              "0           ITF11  \n",
              "1           ITF12  \n",
              "2           ITF13  \n",
              "3           ITF14  \n",
              "4             NaN  \n",
              "..            ...  \n",
              "144         ITH35  \n",
              "145         ITH36  \n",
              "146         ITH37  \n",
              "147           NaN  \n",
              "148           NaN  \n",
              "\n",
              "[149 rows x 14 columns]"
            ],
            "text/html": [
              "\n",
              "  <div id=\"df-edd4ec68-70b9-4074-a2d3-58fe91033352\">\n",
              "    <div class=\"colab-df-container\">\n",
              "      <div>\n",
              "<style scoped>\n",
              "    .dataframe tbody tr th:only-of-type {\n",
              "        vertical-align: middle;\n",
              "    }\n",
              "\n",
              "    .dataframe tbody tr th {\n",
              "        vertical-align: top;\n",
              "    }\n",
              "\n",
              "    .dataframe thead th {\n",
              "        text-align: right;\n",
              "    }\n",
              "</style>\n",
              "<table border=\"1\" class=\"dataframe\">\n",
              "  <thead>\n",
              "    <tr style=\"text-align: right;\">\n",
              "      <th></th>\n",
              "      <th>data</th>\n",
              "      <th>stato</th>\n",
              "      <th>codice_regione</th>\n",
              "      <th>denominazione_regione</th>\n",
              "      <th>codice_provincia</th>\n",
              "      <th>denominazione_provincia</th>\n",
              "      <th>sigla_provincia</th>\n",
              "      <th>lat</th>\n",
              "      <th>long</th>\n",
              "      <th>totale_casi</th>\n",
              "      <th>note</th>\n",
              "      <th>codice_nuts_1</th>\n",
              "      <th>codice_nuts_2</th>\n",
              "      <th>codice_nuts_3</th>\n",
              "    </tr>\n",
              "  </thead>\n",
              "  <tbody>\n",
              "    <tr>\n",
              "      <th>0</th>\n",
              "      <td>2022-11-19T17:00:00</td>\n",
              "      <td>ITA</td>\n",
              "      <td>13</td>\n",
              "      <td>Abruzzo</td>\n",
              "      <td>66</td>\n",
              "      <td>L'Aquila</td>\n",
              "      <td>AQ</td>\n",
              "      <td>42.351222</td>\n",
              "      <td>13.398438</td>\n",
              "      <td>123235</td>\n",
              "      <td>NaN</td>\n",
              "      <td>ITF</td>\n",
              "      <td>ITF1</td>\n",
              "      <td>ITF11</td>\n",
              "    </tr>\n",
              "    <tr>\n",
              "      <th>1</th>\n",
              "      <td>2022-11-19T17:00:00</td>\n",
              "      <td>ITA</td>\n",
              "      <td>13</td>\n",
              "      <td>Abruzzo</td>\n",
              "      <td>67</td>\n",
              "      <td>Teramo</td>\n",
              "      <td>TE</td>\n",
              "      <td>42.658918</td>\n",
              "      <td>13.704400</td>\n",
              "      <td>143295</td>\n",
              "      <td>NaN</td>\n",
              "      <td>ITF</td>\n",
              "      <td>ITF1</td>\n",
              "      <td>ITF12</td>\n",
              "    </tr>\n",
              "    <tr>\n",
              "      <th>2</th>\n",
              "      <td>2022-11-19T17:00:00</td>\n",
              "      <td>ITA</td>\n",
              "      <td>13</td>\n",
              "      <td>Abruzzo</td>\n",
              "      <td>68</td>\n",
              "      <td>Pescara</td>\n",
              "      <td>PE</td>\n",
              "      <td>42.464584</td>\n",
              "      <td>14.213648</td>\n",
              "      <td>142547</td>\n",
              "      <td>NaN</td>\n",
              "      <td>ITF</td>\n",
              "      <td>ITF1</td>\n",
              "      <td>ITF13</td>\n",
              "    </tr>\n",
              "    <tr>\n",
              "      <th>3</th>\n",
              "      <td>2022-11-19T17:00:00</td>\n",
              "      <td>ITA</td>\n",
              "      <td>13</td>\n",
              "      <td>Abruzzo</td>\n",
              "      <td>69</td>\n",
              "      <td>Chieti</td>\n",
              "      <td>CH</td>\n",
              "      <td>42.351032</td>\n",
              "      <td>14.167546</td>\n",
              "      <td>171694</td>\n",
              "      <td>NaN</td>\n",
              "      <td>ITF</td>\n",
              "      <td>ITF1</td>\n",
              "      <td>ITF14</td>\n",
              "    </tr>\n",
              "    <tr>\n",
              "      <th>4</th>\n",
              "      <td>2022-11-19T17:00:00</td>\n",
              "      <td>ITA</td>\n",
              "      <td>13</td>\n",
              "      <td>Abruzzo</td>\n",
              "      <td>879</td>\n",
              "      <td>Fuori Regione / Provincia Autonoma</td>\n",
              "      <td>NaN</td>\n",
              "      <td>NaN</td>\n",
              "      <td>NaN</td>\n",
              "      <td>12772</td>\n",
              "      <td>NaN</td>\n",
              "      <td>ITF</td>\n",
              "      <td>ITF1</td>\n",
              "      <td>NaN</td>\n",
              "    </tr>\n",
              "    <tr>\n",
              "      <th>...</th>\n",
              "      <td>...</td>\n",
              "      <td>...</td>\n",
              "      <td>...</td>\n",
              "      <td>...</td>\n",
              "      <td>...</td>\n",
              "      <td>...</td>\n",
              "      <td>...</td>\n",
              "      <td>...</td>\n",
              "      <td>...</td>\n",
              "      <td>...</td>\n",
              "      <td>...</td>\n",
              "      <td>...</td>\n",
              "      <td>...</td>\n",
              "      <td>...</td>\n",
              "    </tr>\n",
              "    <tr>\n",
              "      <th>144</th>\n",
              "      <td>2022-11-19T17:00:00</td>\n",
              "      <td>ITA</td>\n",
              "      <td>5</td>\n",
              "      <td>Veneto</td>\n",
              "      <td>27</td>\n",
              "      <td>Venezia</td>\n",
              "      <td>VE</td>\n",
              "      <td>45.434905</td>\n",
              "      <td>12.338452</td>\n",
              "      <td>420955</td>\n",
              "      <td>NaN</td>\n",
              "      <td>ITH</td>\n",
              "      <td>ITH3</td>\n",
              "      <td>ITH35</td>\n",
              "    </tr>\n",
              "    <tr>\n",
              "      <th>145</th>\n",
              "      <td>2022-11-19T17:00:00</td>\n",
              "      <td>ITA</td>\n",
              "      <td>5</td>\n",
              "      <td>Veneto</td>\n",
              "      <td>28</td>\n",
              "      <td>Padova</td>\n",
              "      <td>PD</td>\n",
              "      <td>45.406930</td>\n",
              "      <td>11.876087</td>\n",
              "      <td>488071</td>\n",
              "      <td>NaN</td>\n",
              "      <td>ITH</td>\n",
              "      <td>ITH3</td>\n",
              "      <td>ITH36</td>\n",
              "    </tr>\n",
              "    <tr>\n",
              "      <th>146</th>\n",
              "      <td>2022-11-19T17:00:00</td>\n",
              "      <td>ITA</td>\n",
              "      <td>5</td>\n",
              "      <td>Veneto</td>\n",
              "      <td>29</td>\n",
              "      <td>Rovigo</td>\n",
              "      <td>RO</td>\n",
              "      <td>45.071073</td>\n",
              "      <td>11.790070</td>\n",
              "      <td>108879</td>\n",
              "      <td>NaN</td>\n",
              "      <td>ITH</td>\n",
              "      <td>ITH3</td>\n",
              "      <td>ITH37</td>\n",
              "    </tr>\n",
              "    <tr>\n",
              "      <th>147</th>\n",
              "      <td>2022-11-19T17:00:00</td>\n",
              "      <td>ITA</td>\n",
              "      <td>5</td>\n",
              "      <td>Veneto</td>\n",
              "      <td>899</td>\n",
              "      <td>Fuori Regione / Provincia Autonoma</td>\n",
              "      <td>NaN</td>\n",
              "      <td>NaN</td>\n",
              "      <td>NaN</td>\n",
              "      <td>37545</td>\n",
              "      <td>NaN</td>\n",
              "      <td>ITH</td>\n",
              "      <td>ITH3</td>\n",
              "      <td>NaN</td>\n",
              "    </tr>\n",
              "    <tr>\n",
              "      <th>148</th>\n",
              "      <td>2022-11-19T17:00:00</td>\n",
              "      <td>ITA</td>\n",
              "      <td>5</td>\n",
              "      <td>Veneto</td>\n",
              "      <td>999</td>\n",
              "      <td>In fase di definizione/aggiornamento</td>\n",
              "      <td>NaN</td>\n",
              "      <td>NaN</td>\n",
              "      <td>NaN</td>\n",
              "      <td>12075</td>\n",
              "      <td>NaN</td>\n",
              "      <td>ITH</td>\n",
              "      <td>ITH3</td>\n",
              "      <td>NaN</td>\n",
              "    </tr>\n",
              "  </tbody>\n",
              "</table>\n",
              "<p>149 rows × 14 columns</p>\n",
              "</div>\n",
              "      <button class=\"colab-df-convert\" onclick=\"convertToInteractive('df-edd4ec68-70b9-4074-a2d3-58fe91033352')\"\n",
              "              title=\"Convert this dataframe to an interactive table.\"\n",
              "              style=\"display:none;\">\n",
              "        \n",
              "  <svg xmlns=\"http://www.w3.org/2000/svg\" height=\"24px\"viewBox=\"0 0 24 24\"\n",
              "       width=\"24px\">\n",
              "    <path d=\"M0 0h24v24H0V0z\" fill=\"none\"/>\n",
              "    <path d=\"M18.56 5.44l.94 2.06.94-2.06 2.06-.94-2.06-.94-.94-2.06-.94 2.06-2.06.94zm-11 1L8.5 8.5l.94-2.06 2.06-.94-2.06-.94L8.5 2.5l-.94 2.06-2.06.94zm10 10l.94 2.06.94-2.06 2.06-.94-2.06-.94-.94-2.06-.94 2.06-2.06.94z\"/><path d=\"M17.41 7.96l-1.37-1.37c-.4-.4-.92-.59-1.43-.59-.52 0-1.04.2-1.43.59L10.3 9.45l-7.72 7.72c-.78.78-.78 2.05 0 2.83L4 21.41c.39.39.9.59 1.41.59.51 0 1.02-.2 1.41-.59l7.78-7.78 2.81-2.81c.8-.78.8-2.07 0-2.86zM5.41 20L4 18.59l7.72-7.72 1.47 1.35L5.41 20z\"/>\n",
              "  </svg>\n",
              "      </button>\n",
              "      \n",
              "  <style>\n",
              "    .colab-df-container {\n",
              "      display:flex;\n",
              "      flex-wrap:wrap;\n",
              "      gap: 12px;\n",
              "    }\n",
              "\n",
              "    .colab-df-convert {\n",
              "      background-color: #E8F0FE;\n",
              "      border: none;\n",
              "      border-radius: 50%;\n",
              "      cursor: pointer;\n",
              "      display: none;\n",
              "      fill: #1967D2;\n",
              "      height: 32px;\n",
              "      padding: 0 0 0 0;\n",
              "      width: 32px;\n",
              "    }\n",
              "\n",
              "    .colab-df-convert:hover {\n",
              "      background-color: #E2EBFA;\n",
              "      box-shadow: 0px 1px 2px rgba(60, 64, 67, 0.3), 0px 1px 3px 1px rgba(60, 64, 67, 0.15);\n",
              "      fill: #174EA6;\n",
              "    }\n",
              "\n",
              "    [theme=dark] .colab-df-convert {\n",
              "      background-color: #3B4455;\n",
              "      fill: #D2E3FC;\n",
              "    }\n",
              "\n",
              "    [theme=dark] .colab-df-convert:hover {\n",
              "      background-color: #434B5C;\n",
              "      box-shadow: 0px 1px 3px 1px rgba(0, 0, 0, 0.15);\n",
              "      filter: drop-shadow(0px 1px 2px rgba(0, 0, 0, 0.3));\n",
              "      fill: #FFFFFF;\n",
              "    }\n",
              "  </style>\n",
              "\n",
              "      <script>\n",
              "        const buttonEl =\n",
              "          document.querySelector('#df-edd4ec68-70b9-4074-a2d3-58fe91033352 button.colab-df-convert');\n",
              "        buttonEl.style.display =\n",
              "          google.colab.kernel.accessAllowed ? 'block' : 'none';\n",
              "\n",
              "        async function convertToInteractive(key) {\n",
              "          const element = document.querySelector('#df-edd4ec68-70b9-4074-a2d3-58fe91033352');\n",
              "          const dataTable =\n",
              "            await google.colab.kernel.invokeFunction('convertToInteractive',\n",
              "                                                     [key], {});\n",
              "          if (!dataTable) return;\n",
              "\n",
              "          const docLinkHtml = 'Like what you see? Visit the ' +\n",
              "            '<a target=\"_blank\" href=https://colab.research.google.com/notebooks/data_table.ipynb>data table notebook</a>'\n",
              "            + ' to learn more about interactive tables.';\n",
              "          element.innerHTML = '';\n",
              "          dataTable['output_type'] = 'display_data';\n",
              "          await google.colab.output.renderOutput(dataTable, element);\n",
              "          const docLink = document.createElement('div');\n",
              "          docLink.innerHTML = docLinkHtml;\n",
              "          element.appendChild(docLink);\n",
              "        }\n",
              "      </script>\n",
              "    </div>\n",
              "  </div>\n",
              "  "
            ]
          },
          "metadata": {},
          "execution_count": 1
        }
      ],
      "source": [
        "import pandas as pd \n",
        "df = pd.read_csv(\"https://raw.githubusercontent.com/pcm-dpc/COVID-19/master/dati-province/dpc-covid19-ita-province-20221119.csv\")\n",
        "df"
      ]
    },
    {
      "cell_type": "markdown",
      "source": [
        "1. visualizzare il numero di provincie"
      ],
      "metadata": {
        "id": "Gyoxt_6wPNI2"
      }
    },
    {
      "cell_type": "code",
      "source": [
        "len(set(df[\"denominazione_provincia\"]))"
      ],
      "metadata": {
        "id": "A01QsPX-QZe3"
      },
      "execution_count": null,
      "outputs": []
    },
    {
      "cell_type": "markdown",
      "source": [
        "2. visualizzare il numero dei casi totale per ogni regione. Ordinare in modo decrescente il numero di casi"
      ],
      "metadata": {
        "id": "QkPObFnLPbwb"
      }
    },
    {
      "cell_type": "code",
      "source": [
        "dfreg = df.groupby(\"denominazione_regione\")[[\"totale_casi\"]].sum().sort_values(by=\"totale_casi\", ascending = False).reset_index()\n",
        "dfreg"
      ],
      "metadata": {
        "id": "WqAl5j2EQgJC"
      },
      "execution_count": null,
      "outputs": []
    },
    {
      "cell_type": "markdown",
      "source": [
        "3. visualizzare la regione con più casi"
      ],
      "metadata": {
        "id": "giI0-BBHPlTr"
      }
    },
    {
      "cell_type": "code",
      "source": [
        "dfreg[dfreg[\"totale_casi\"] == dfreg[\"totale_casi\"].max()][[\"denominazione_regione\"]]"
      ],
      "metadata": {
        "id": "cBhaMQ3YQ2v4"
      },
      "execution_count": null,
      "outputs": []
    },
    {
      "cell_type": "markdown",
      "source": [
        "4. visualizzare le regioni con longitudine nulla"
      ],
      "metadata": {
        "id": "1NnsaLZIPp36"
      }
    },
    {
      "cell_type": "code",
      "source": [
        "print(set(df[df.long.isnull()][\"denominazione_regione\"]))"
      ],
      "metadata": {
        "id": "m9JGNFjTRPjb"
      },
      "execution_count": null,
      "outputs": []
    },
    {
      "cell_type": "markdown",
      "source": [
        "5. visualizzare il numero di casi per ogni provincia"
      ],
      "metadata": {
        "id": "TxjpwTbDQD6D"
      }
    },
    {
      "cell_type": "code",
      "source": [
        "dfprov = df.groupby(\"denominazione_provincia\")[[\"totale_casi\"]].sum().sort_values(by=\"totale_casi\", ascending = False).reset_index()\n",
        "dfprov"
      ],
      "metadata": {
        "id": "DKGmoDozRvlU"
      },
      "execution_count": null,
      "outputs": []
    },
    {
      "cell_type": "markdown",
      "source": [
        "6. visualizzare la provincia con meno casi"
      ],
      "metadata": {
        "id": "GPZqWDCrQObO"
      }
    },
    {
      "cell_type": "code",
      "source": [
        "dfprov[dfprov[\"totale_casi\"] == dfprov[\"totale_casi\"].min()][[\"denominazione_provincia\"]]"
      ],
      "metadata": {
        "id": "XntZK2IPSxmT"
      },
      "execution_count": null,
      "outputs": []
    },
    {
      "cell_type": "markdown",
      "source": [
        "7. fare grafico a barre verticali dell'esercizio 2 "
      ],
      "metadata": {
        "id": "7TjkTF3_QR7a"
      }
    },
    {
      "cell_type": "code",
      "source": [
        "import matplotlib.pyplot as plt"
      ],
      "metadata": {
        "id": "-w4P-fZ6TQp3"
      },
      "execution_count": 31,
      "outputs": []
    },
    {
      "cell_type": "code",
      "source": [
        "dati = df.groupby(\"denominazione_regione\")[[\"totale_casi\"]].sum().sort_values(by=\"totale_casi\", ascending = False).reset_index()\n",
        "regioni = dati[\"denominazione_regione\"]\n",
        "casi = dati[\"totale_casi\"]\n",
        "fig, ax = plt.subplots(figsize=(15,8))\n",
        "ax.bar(regioni, casi, label='numero di casi per ogni regione', color = [\"red\", \"blue\", \"green\", \"yellow\", \"black\"])\n",
        "ax.set_ylabel(\"numero di casi\")\n",
        "ax.set_xlabel(\"regione\")\n",
        "ax.set_title('numero di casi per ogni regione')\n",
        "plt.xticks(rotation = 70)"
      ],
      "metadata": {
        "id": "YffLnIzdQZJK"
      },
      "execution_count": null,
      "outputs": []
    },
    {
      "cell_type": "markdown",
      "source": [
        "8. visualizzare la percentuale dei casi di ogni regione rispetto all'intera popolazione italiana "
      ],
      "metadata": {
        "id": "aGGfr0mLYCYF"
      }
    },
    {
      "cell_type": "code",
      "source": [
        "popolazione_italiana = 60000000\n",
        "dfperc = df.groupby(\"denominazione_regione\")[[\"totale_casi\"]].sum()/popolazione_italiana * 100\n",
        "dfperc"
      ],
      "metadata": {
        "id": "rJXqIzeUYQGJ"
      },
      "execution_count": null,
      "outputs": []
    }
  ]
}