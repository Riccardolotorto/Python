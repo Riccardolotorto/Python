{
  "nbformat": 4,
  "nbformat_minor": 0,
  "metadata": {
    "colab": {
      "provenance": [],
      "authorship_tag": "ABX9TyNwFJks/XMBAHSJ5TI425sR",
      "include_colab_link": true
    },
    "kernelspec": {
      "name": "python3",
      "display_name": "Python 3"
    },
    "language_info": {
      "name": "python"
    }
  },
  "cells": [
    {
      "cell_type": "markdown",
      "metadata": {
        "id": "view-in-github",
        "colab_type": "text"
      },
      "source": [
        "<a href=\"https://colab.research.google.com/github/Riccardolotorto/Python/blob/main/PreparazioneVerificaDicembre2022LOTORTO.ipynb\" target=\"_parent\"><img src=\"https://colab.research.google.com/assets/colab-badge.svg\" alt=\"Open In Colab\"/></a>"
      ]
    },
    {
      "cell_type": "markdown",
      "source": [
        "caricare il file"
      ],
      "metadata": {
        "id": "eQyUQ5w7bsub"
      }
    },
    {
      "cell_type": "code",
      "execution_count": 2,
      "metadata": {
        "id": "rorF-9BsbmOE"
      },
      "outputs": [],
      "source": [
        "import pandas as pd\n",
        "df = pd.read_csv(\"https://raw.githubusercontent.com/italia/covid19-opendata-vaccini/master/dati/consegne-vaccini-latest.csv\")"
      ]
    },
    {
      "cell_type": "code",
      "source": [
        "df"
      ],
      "metadata": {
        "id": "eF0ZVnZFb8PO"
      },
      "execution_count": null,
      "outputs": []
    },
    {
      "cell_type": "markdown",
      "source": [
        "1. visualizzare il numero totale di record presenti nel file"
      ],
      "metadata": {
        "id": "L9TEypJxb-LC"
      }
    },
    {
      "cell_type": "code",
      "source": [
        "len(df. index)"
      ],
      "metadata": {
        "colab": {
          "base_uri": "https://localhost:8080/"
        },
        "id": "4f-5xCJpcAQD",
        "outputId": "74ec0e67-9038-4fde-8051-f7ef617bdc30"
      },
      "execution_count": null,
      "outputs": [
        {
          "output_type": "execute_result",
          "data": {
            "text/plain": [
              "7550"
            ]
          },
          "metadata": {},
          "execution_count": 4
        }
      ]
    },
    {
      "cell_type": "markdown",
      "source": [
        "2. visualizzare il numero di record presenti relativi ad una regione inserita dall'utente"
      ],
      "metadata": {
        "id": "4RnvD_4McKC0"
      }
    },
    {
      "cell_type": "code",
      "source": [
        "regione_inserita = input(\"Inserire una regione: \")\n",
        "df[df[\"reg\"] == regione_inserita][\"reg\"].count()"
      ],
      "metadata": {
        "colab": {
          "base_uri": "https://localhost:8080/"
        },
        "id": "DIPodE6EcNnD",
        "outputId": "0c875e79-1d01-4628-9783-70cbd1da7560"
      },
      "execution_count": null,
      "outputs": [
        {
          "name": "stdout",
          "output_type": "stream",
          "text": [
            "Inserire una regione: Lombardia\n"
          ]
        },
        {
          "output_type": "execute_result",
          "data": {
            "text/plain": [
              "360"
            ]
          },
          "metadata": {},
          "execution_count": 60
        }
      ]
    },
    {
      "cell_type": "markdown",
      "source": [
        "3. modificare l'esercizio precedente per rispondere con un messaggio appropriato se la regione non è presente"
      ],
      "metadata": {
        "id": "5zvAr5Eyc75D"
      }
    },
    {
      "cell_type": "code",
      "source": [
        "regione_inserita = input(\"Inserire una regione: \")\n",
        "if regione_inserita not in list(df[\"reg\"]): #devo trasformare df.reg in lista, poichè di base risulta essere una serie e NOT IN è un codice che vale per le liste, tuple e insiemi\n",
        "  print(\"la regione inserita non esiste\")\n",
        "else:\n",
        "  print(df[df[\"reg\"] == regione_inserita][\"reg\"].count())"
      ],
      "metadata": {
        "id": "BoRIu7v0dAhC"
      },
      "execution_count": null,
      "outputs": []
    },
    {
      "cell_type": "markdown",
      "source": [
        "4. visualizzare il numero totale di vaccini consegnati in una regione inserita dall'utente"
      ],
      "metadata": {
        "id": "JM-l3j0IeavL"
      }
    },
    {
      "cell_type": "code",
      "source": [
        "regione_inserita = input(\"Inserire una regione: \")\n",
        "df[df[\"reg\"] == regione_inserita][\"numero_dosi\"].sum()"
      ],
      "metadata": {
        "colab": {
          "base_uri": "https://localhost:8080/"
        },
        "id": "GuWgQHE1eczy",
        "outputId": "7c8c5db1-91d8-4818-d561-3b7c866d3a4f"
      },
      "execution_count": null,
      "outputs": [
        {
          "name": "stdout",
          "output_type": "stream",
          "text": [
            "Inserire una regione: Abruzzo\n"
          ]
        },
        {
          "output_type": "execute_result",
          "data": {
            "text/plain": [
              "3459924"
            ]
          },
          "metadata": {},
          "execution_count": 15
        }
      ]
    },
    {
      "cell_type": "markdown",
      "source": [
        "5. visualizzare il numero totale di vaccini per ogni fornitore"
      ],
      "metadata": {
        "id": "JV11GKMxexWE"
      }
    },
    {
      "cell_type": "code",
      "source": [
        "df.groupby(\"forn\")[[\"numero_dosi\"]].sum()"
      ],
      "metadata": {
        "id": "R8feVfLNeza8"
      },
      "execution_count": null,
      "outputs": []
    },
    {
      "cell_type": "markdown",
      "source": [
        "6.  visualizzare il numero di vaccini per ogni fornitore di una regione inserita dall'utente. Ordinare in ordine\n",
        "decrescente sul numero di vaccini"
      ],
      "metadata": {
        "id": "bf9wJVgVfCZ6"
      }
    },
    {
      "cell_type": "code",
      "source": [
        "regione_inserita = input(\"Inserire una regione: \")\n",
        "vac = df[df[\"reg\"] == regione_inserita]\n",
        "dosi = vac.groupby(\"forn\")[[\"numero_dosi\"]].sum().reset_index()\n",
        "dosi"
      ],
      "metadata": {
        "id": "VSXyG5A6fESi"
      },
      "execution_count": null,
      "outputs": []
    },
    {
      "cell_type": "code",
      "source": [
        "#metodo più veloce\n",
        "regione_inserita = input(\"Inserire una regione: \")\n",
        "df[df[\"reg\"] == regione_inserita].groupby(\"forn\")[[\"numero_dosi\"]].sum().sort_values(by=\"numero_dosi\", ascending = False)"
      ],
      "metadata": {
        "id": "AYitvjlXC4ur"
      },
      "execution_count": null,
      "outputs": []
    },
    {
      "cell_type": "markdown",
      "source": [
        "7. visualizzare le informazioni dell'esercizio 6 con un grafico a barre verticali e uno a barre orizzontali. Indicare in modo appropriato il titolo, la legenda e le informazioni presenti negli assi"
      ],
      "metadata": {
        "id": "S8pHdriRjB28"
      }
    },
    {
      "cell_type": "code",
      "source": [
        "import matplotlib.pyplot as plt"
      ],
      "metadata": {
        "id": "FNdlFaDPjFHF"
      },
      "execution_count": 12,
      "outputs": []
    },
    {
      "cell_type": "code",
      "source": [
        "dati = df.groupby(\"forn\")[[\"numero_dosi\"]].sum().sort_values(by=\"numero_dosi\", ascending = False).reset_index()\n",
        "fornitore = dati[\"forn\"]\n",
        "nDosi = dati[\"numero_dosi\"]\n",
        "\n",
        "fig, ax = plt.subplots(figsize=(15,8))\n",
        "ax.bar(fornitore, nDosi, label='totale di vaccini per ogni fornitore')\n",
        "ax.set_ylabel(\"numero di dosi (in milioni)\")\n",
        "ax.set_xlabel(\"fornitore del vaccino\")\n",
        "ax.set_title('totale di vaccini per ogni fornitore')\n",
        "ax.legend() #la legenda mostra il testo inserito precedentemente nella label"
      ],
      "metadata": {
        "id": "IksQ2UmKqvrO"
      },
      "execution_count": null,
      "outputs": []
    },
    {
      "cell_type": "code",
      "source": [
        "dati = df.groupby(\"forn\")[[\"numero_dosi\"]].sum().sort_values(by=\"numero_dosi\", ascending = False).reset_index()\n",
        "fornitore = dati[\"forn\"]\n",
        "nDosi = dati[\"numero_dosi\"]\n",
        "\n",
        "fig, ax = plt.subplots(figsize=(15,8))\n",
        "ax.barh(fornitore, nDosi, label='totale di vaccini per ogni fornitore')\n",
        "ax.set_ylabel(\"fornitore del vaccino\")\n",
        "ax.set_xlabel(\"numero di dosi (in milioni)\")\n",
        "ax.set_title('totale di vaccini per ogni fornitore')\n",
        "ax.legend()"
      ],
      "metadata": {
        "id": "EkqeqEnHsHG9"
      },
      "execution_count": null,
      "outputs": []
    },
    {
      "cell_type": "markdown",
      "source": [
        "8. visualizzare le informazioni dell'esercizio 6 con un grafico a torta"
      ],
      "metadata": {
        "id": "lUCuihUusUfe"
      }
    },
    {
      "cell_type": "code",
      "source": [
        "dati = df.groupby(\"forn\")[[\"numero_dosi\"]].sum().sort_values(by=\"numero_dosi\", ascending = False).reset_index()\n",
        "fornitore = dati[\"forn\"]\n",
        "nDosi = dati[\"numero_dosi\"]\n",
        "plt.figure(figsize=(16, 8))\n",
        "plt.pie(nDosi, labels=fornitore, autopct = '%1.0f%%') \n",
        "plt.show()"
      ],
      "metadata": {
        "id": "Oq9f4efKsWxN"
      },
      "execution_count": null,
      "outputs": []
    },
    {
      "cell_type": "markdown",
      "source": [
        "9.  visualizzare le informazioni dell'esercizio 6 con un grafico treemap (cercare su internet)"
      ],
      "metadata": {
        "id": "-YBcVRietPol"
      }
    },
    {
      "cell_type": "code",
      "source": [
        "!pip install squarify #pip sta per pacchetto di installazione python "
      ],
      "metadata": {
        "colab": {
          "base_uri": "https://localhost:8080/"
        },
        "id": "tBaUODb7zD-W",
        "outputId": "1ac0bfc7-6af4-4a11-c72b-8110e5205e1e"
      },
      "execution_count": 6,
      "outputs": [
        {
          "output_type": "stream",
          "name": "stdout",
          "text": [
            "Looking in indexes: https://pypi.org/simple, https://us-python.pkg.dev/colab-wheels/public/simple/\n",
            "Collecting squarify\n",
            "  Downloading squarify-0.4.3-py3-none-any.whl (4.3 kB)\n",
            "Installing collected packages: squarify\n",
            "Successfully installed squarify-0.4.3\n"
          ]
        }
      ]
    },
    {
      "cell_type": "code",
      "source": [
        "import squarify\n",
        "dati = df.groupby(\"forn\")[[\"numero_dosi\"]].sum().sort_values(by=\"numero_dosi\", ascending = False).reset_index()\n",
        "fornitore = dati[\"forn\"]\n",
        "nDosi = dati[\"numero_dosi\"]\n",
        "squarify.plot(sizes=nDosi, label=fornitore, color=[\"red\",\"green\",\"blue\", \"grey\", \"orange\", \"yellow\"], alpha=.4) #alpha indica l'opacità dei colori del grafico\n",
        "plt.axis('off')\n",
        "plt.show()"
      ],
      "metadata": {
        "id": "KKirv2OltRot"
      },
      "execution_count": null,
      "outputs": []
    },
    {
      "cell_type": "markdown",
      "source": [
        "10. visualizzare i nomi delle tre regioni in cui sono stati consegnati più vaccini"
      ],
      "metadata": {
        "id": "W9qJCfCalNrE"
      }
    },
    {
      "cell_type": "code",
      "source": [
        "dfgroup = df.groupby(\"reg\")[[\"numero_dosi\"]].sum().sort_values(by=\"numero_dosi\", ascending = False).reset_index()\n",
        "dfgroup.head(3)[[\"reg\"]]"
      ],
      "metadata": {
        "colab": {
          "base_uri": "https://localhost:8080/",
          "height": 143
        },
        "id": "8cWdhzv3lVxU",
        "outputId": "a9e77071-4e74-4b2f-c98d-c752b8c38fcf"
      },
      "execution_count": 8,
      "outputs": [
        {
          "output_type": "execute_result",
          "data": {
            "text/plain": [
              "         reg\n",
              "0  Lombardia\n",
              "1      Lazio\n",
              "2   Campania"
            ],
            "text/html": [
              "\n",
              "  <div id=\"df-e633492a-c7e4-4605-944f-0cc61c083225\">\n",
              "    <div class=\"colab-df-container\">\n",
              "      <div>\n",
              "<style scoped>\n",
              "    .dataframe tbody tr th:only-of-type {\n",
              "        vertical-align: middle;\n",
              "    }\n",
              "\n",
              "    .dataframe tbody tr th {\n",
              "        vertical-align: top;\n",
              "    }\n",
              "\n",
              "    .dataframe thead th {\n",
              "        text-align: right;\n",
              "    }\n",
              "</style>\n",
              "<table border=\"1\" class=\"dataframe\">\n",
              "  <thead>\n",
              "    <tr style=\"text-align: right;\">\n",
              "      <th></th>\n",
              "      <th>reg</th>\n",
              "    </tr>\n",
              "  </thead>\n",
              "  <tbody>\n",
              "    <tr>\n",
              "      <th>0</th>\n",
              "      <td>Lombardia</td>\n",
              "    </tr>\n",
              "    <tr>\n",
              "      <th>1</th>\n",
              "      <td>Lazio</td>\n",
              "    </tr>\n",
              "    <tr>\n",
              "      <th>2</th>\n",
              "      <td>Campania</td>\n",
              "    </tr>\n",
              "  </tbody>\n",
              "</table>\n",
              "</div>\n",
              "      <button class=\"colab-df-convert\" onclick=\"convertToInteractive('df-e633492a-c7e4-4605-944f-0cc61c083225')\"\n",
              "              title=\"Convert this dataframe to an interactive table.\"\n",
              "              style=\"display:none;\">\n",
              "        \n",
              "  <svg xmlns=\"http://www.w3.org/2000/svg\" height=\"24px\"viewBox=\"0 0 24 24\"\n",
              "       width=\"24px\">\n",
              "    <path d=\"M0 0h24v24H0V0z\" fill=\"none\"/>\n",
              "    <path d=\"M18.56 5.44l.94 2.06.94-2.06 2.06-.94-2.06-.94-.94-2.06-.94 2.06-2.06.94zm-11 1L8.5 8.5l.94-2.06 2.06-.94-2.06-.94L8.5 2.5l-.94 2.06-2.06.94zm10 10l.94 2.06.94-2.06 2.06-.94-2.06-.94-.94-2.06-.94 2.06-2.06.94z\"/><path d=\"M17.41 7.96l-1.37-1.37c-.4-.4-.92-.59-1.43-.59-.52 0-1.04.2-1.43.59L10.3 9.45l-7.72 7.72c-.78.78-.78 2.05 0 2.83L4 21.41c.39.39.9.59 1.41.59.51 0 1.02-.2 1.41-.59l7.78-7.78 2.81-2.81c.8-.78.8-2.07 0-2.86zM5.41 20L4 18.59l7.72-7.72 1.47 1.35L5.41 20z\"/>\n",
              "  </svg>\n",
              "      </button>\n",
              "      \n",
              "  <style>\n",
              "    .colab-df-container {\n",
              "      display:flex;\n",
              "      flex-wrap:wrap;\n",
              "      gap: 12px;\n",
              "    }\n",
              "\n",
              "    .colab-df-convert {\n",
              "      background-color: #E8F0FE;\n",
              "      border: none;\n",
              "      border-radius: 50%;\n",
              "      cursor: pointer;\n",
              "      display: none;\n",
              "      fill: #1967D2;\n",
              "      height: 32px;\n",
              "      padding: 0 0 0 0;\n",
              "      width: 32px;\n",
              "    }\n",
              "\n",
              "    .colab-df-convert:hover {\n",
              "      background-color: #E2EBFA;\n",
              "      box-shadow: 0px 1px 2px rgba(60, 64, 67, 0.3), 0px 1px 3px 1px rgba(60, 64, 67, 0.15);\n",
              "      fill: #174EA6;\n",
              "    }\n",
              "\n",
              "    [theme=dark] .colab-df-convert {\n",
              "      background-color: #3B4455;\n",
              "      fill: #D2E3FC;\n",
              "    }\n",
              "\n",
              "    [theme=dark] .colab-df-convert:hover {\n",
              "      background-color: #434B5C;\n",
              "      box-shadow: 0px 1px 3px 1px rgba(0, 0, 0, 0.15);\n",
              "      filter: drop-shadow(0px 1px 2px rgba(0, 0, 0, 0.3));\n",
              "      fill: #FFFFFF;\n",
              "    }\n",
              "  </style>\n",
              "\n",
              "      <script>\n",
              "        const buttonEl =\n",
              "          document.querySelector('#df-e633492a-c7e4-4605-944f-0cc61c083225 button.colab-df-convert');\n",
              "        buttonEl.style.display =\n",
              "          google.colab.kernel.accessAllowed ? 'block' : 'none';\n",
              "\n",
              "        async function convertToInteractive(key) {\n",
              "          const element = document.querySelector('#df-e633492a-c7e4-4605-944f-0cc61c083225');\n",
              "          const dataTable =\n",
              "            await google.colab.kernel.invokeFunction('convertToInteractive',\n",
              "                                                     [key], {});\n",
              "          if (!dataTable) return;\n",
              "\n",
              "          const docLinkHtml = 'Like what you see? Visit the ' +\n",
              "            '<a target=\"_blank\" href=https://colab.research.google.com/notebooks/data_table.ipynb>data table notebook</a>'\n",
              "            + ' to learn more about interactive tables.';\n",
              "          element.innerHTML = '';\n",
              "          dataTable['output_type'] = 'display_data';\n",
              "          await google.colab.output.renderOutput(dataTable, element);\n",
              "          const docLink = document.createElement('div');\n",
              "          docLink.innerHTML = docLinkHtml;\n",
              "          element.appendChild(docLink);\n",
              "        }\n",
              "      </script>\n",
              "    </div>\n",
              "  </div>\n",
              "  "
            ]
          },
          "metadata": {},
          "execution_count": 8
        }
      ]
    },
    {
      "cell_type": "markdown",
      "source": [
        "11. visualizzare i nomi delle regioni in cui sono stati consegnati un numero di vaccini inferiore alla media dei vaccini consegnati nelle regioni"
      ],
      "metadata": {
        "id": "T767G3jil2Gk"
      }
    },
    {
      "cell_type": "code",
      "source": [
        "dfgroup[dfgroup[\"numero_dosi\"] < dfgroup[\"numero_dosi\"].mean()][[\"reg\"]]"
      ],
      "metadata": {
        "id": "TZJfElfrl390"
      },
      "execution_count": null,
      "outputs": []
    },
    {
      "cell_type": "markdown",
      "source": [
        "12.  visualizzare il grafico delle consegne dei vaccini in Lombardia e nel Lazio. Visualizzare solo i dati delle\n",
        "consegne avvenute negli ultimi sei mesi. Fare in modo che la data sia determinata in modo automatico (cercare su internet)"
      ],
      "metadata": {
        "id": "7Pq20DiOmQNk"
      }
    },
    {
      "cell_type": "code",
      "source": [
        "import datetime\n",
        "from dateutil.relativedelta import relativedelta\n",
        "sdata = datetime.datetime.now() - relativedelta(months= 6) #trovo la data di 6 mesi fa\n",
        "dates = pd.to_datetime(df[\"data_consegna\"], format='%y-%m-%d') #trasformo da serie in datetime\n",
        "dfdati= df[(df.reg == 'Lombardia') | (df.reg == 'Lazio') & (dates > sdata)].groupby('reg').sum()[['numero_dosi']].reset_index()\n",
        "numero_dosi = dfdati['numero_dosi']\n",
        "regioni = dfdati[\"reg\"]\n",
        "\n",
        "fig, ax = plt.subplots(figsize=(15,8))\n",
        "ax.barh(regioni, numero_dosi, label='vaccini somministrati in una regione') "
      ],
      "metadata": {
        "id": "6Hz6aTlmI0d8"
      },
      "execution_count": null,
      "outputs": []
    }
  ]
}